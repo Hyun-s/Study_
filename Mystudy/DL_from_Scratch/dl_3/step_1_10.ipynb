{
 "cells": [
  {
   "cell_type": "code",
   "execution_count": 4,
   "id": "3f248620",
   "metadata": {
    "ExecuteTime": {
     "end_time": "2022-05-16T10:39:34.247935Z",
     "start_time": "2022-05-16T10:39:34.236830Z"
    }
   },
   "outputs": [
    {
     "name": "stdout",
     "output_type": "stream",
     "text": [
      "Overwriting utils.py\n"
     ]
    }
   ],
   "source": [
    "%%writefile utils.py\n",
    "import numpy as np\n",
    "\n",
    "class Variable:\n",
    "    def __init__(self, data):\n",
    "        if data is not None:\n",
    "            if not isinstance(data, np.ndarray):\n",
    "                raise TypeError('{} is not supported'.format(type(data)))\n",
    "        self.data = data\n",
    "        self.grad = None\n",
    "        self.creator = None\n",
    "        \n",
    "    def set_creator(self, func):\n",
    "        '''\n",
    "        연산 함수 저장(연결 기록)\n",
    "        '''\n",
    "        self.creator = func\n",
    "        \n",
    "    def backward_recur(self):\n",
    "        f = self.creator # 어떤 함수사용했는지 가져오기\n",
    "        if f is not None:\n",
    "            x = f.input # 입력 가져오기\n",
    "            x.grad = f.backward(self.grad) # 역전파 계산\n",
    "            x.backward_recur() # 재귀로 호출\n",
    "    \n",
    "    def backward(self):\n",
    "        if self.grad is None: # gradient init\n",
    "            self.grad = np.ones_like(self.data)\n",
    "        funcs = [self.creator]\n",
    "        while(funcs):\n",
    "            f = funcs.pop()\n",
    "            x, y = f.input, f.output\n",
    "            x.grad = f.backward(y.grad)\n",
    "            if x.creator is not None:\n",
    "                funcs.append(x.creator)\n",
    "\n",
    "                \n",
    "def as_array(x): # np의 경우 return이 np.float인 경우가 있으니 array로 변환\n",
    "    if np.isscalar(x):\n",
    "        return np.array(x)\n",
    "    return x\n",
    "\n",
    "class Function:\n",
    "    def __call__(self, input):\n",
    "        x = input.data\n",
    "        y = self.forward(x)\n",
    "        \n",
    "        output = Variable(as_array(y))\n",
    "        output.set_creator(self)\n",
    "        \n",
    "        self.input = input\n",
    "        self.output = output\n",
    "        return output\n",
    "    \n",
    "    def forward(self, x):\n",
    "        '''\n",
    "        연산 작성\n",
    "        '''\n",
    "        raise NotImplementedError() # 구현 안되어 있음을 의미\n",
    "        \n",
    "    def backward(self, gy):\n",
    "        '''\n",
    "        gy는 chain rule로 곱해주기 위해 이전의 기울기\n",
    "        '''\n",
    "        raise NotImplementedError()\n",
    "        \n",
    "class Square(Function):\n",
    "    def forward(self, x):\n",
    "        return x ** 2\n",
    "    \n",
    "    def backward(self, gy):\n",
    "        x = self.input.data\n",
    "        gx = 2 *  x * gy\n",
    "        return gx \n",
    "def square(x):\n",
    "    return Square()(x)\n",
    "\n",
    "\n",
    "class Exp(Function):\n",
    "    def forward(self, x):\n",
    "        return np.exp(x)\n",
    "    \n",
    "    def backward(self, gy):\n",
    "        x = self.input.data\n",
    "        gx = np.exp(x) * gy\n",
    "        return gx\n",
    "def exp(x):\n",
    "    return Exp()(x)\n",
    "\n",
    "    \n",
    "def numerical_diff(f, x, eps=1e-4):\n",
    "    '''\n",
    "    numerical diff\n",
    "    수치 미분으로 f(x + h) - f(x - h) / 2*h : \n",
    "                  h : lim -> 0\n",
    "    '''\n",
    "    x0 = Variable(x.data - eps)\n",
    "    x1 = Variable(x.data + eps)\n",
    "    y0 = f(x0)\n",
    "    y1 = f(x1)\n",
    "    return (y1.data - y0.data) / (2 * eps)\n",
    "\n",
    "# def f(x):\n",
    "#     '''\n",
    "#     composite function diff\n",
    "#     '''\n",
    "#     A = Square()\n",
    "#     B = Exp()\n",
    "#     C = Square()\n",
    "#     return C(B(A(x)))"
   ]
  },
  {
   "cell_type": "markdown",
   "id": "ecbf4f53",
   "metadata": {
    "ExecuteTime": {
     "end_time": "2022-05-02T08:55:19.463293Z",
     "start_time": "2022-05-02T08:55:19.451886Z"
    }
   },
   "source": [
    "### Unit Test"
   ]
  },
  {
   "cell_type": "code",
   "execution_count": 7,
   "id": "56335826",
   "metadata": {
    "ExecuteTime": {
     "end_time": "2022-05-16T10:45:54.202505Z",
     "start_time": "2022-05-16T10:45:54.180922Z"
    },
    "scrolled": true
   },
   "outputs": [
    {
     "name": "stdout",
     "output_type": "stream",
     "text": [
      "Overwriting unittest_square.py\n"
     ]
    }
   ],
   "source": [
    "%%writefile unittest_square.py\n",
    "from utils import *\n",
    "import unittest\n",
    "\n",
    "class SquareTest(unittest.TestCase):\n",
    "    def test_forward(self):\n",
    "        x = Variable(np.array(2.0))\n",
    "        y = square(x)\n",
    "        expected = np.array(4.0)\n",
    "        self.assertEqual(y.data, expected)\n",
    "        \n",
    "    def test_backward(self):\n",
    "        x = Variable(np.array(3.0))\n",
    "        y = square(x)\n",
    "        y.backward()\n",
    "        expected = np.array(6.0)\n",
    "        self.assertEqual(x.grad, expected)\n",
    "        \n",
    "    def test_gradient_check(self): # 기울기 검사 자동화\n",
    "        x = Variable(np.random.rand(1))\n",
    "        y = square(x)\n",
    "        y.backward()\n",
    "        num_grad = numerical_diff(square, x)\n",
    "        flg = np.allclose(x.grad, num_grad) # 어느정도 가까우면 true |a-b| <= (atol(1e-8) + rtol(1e-5) * b)\n",
    "        self.assertTrue(flg)"
   ]
  },
  {
   "cell_type": "code",
   "execution_count": 2,
   "id": "a453de67",
   "metadata": {
    "ExecuteTime": {
     "end_time": "2022-05-16T10:34:04.915523Z",
     "start_time": "2022-05-16T10:34:04.281423Z"
    }
   },
   "outputs": [
    {
     "name": "stderr",
     "output_type": "stream",
     "text": [
      "Traceback (most recent call last):\n",
      "  File \"C:\\python_anaconda3\\lib\\runpy.py\", line 194, in _run_module_as_main\n",
      "    return _run_code(code, main_globals, None,\n",
      "  File \"C:\\python_anaconda3\\lib\\runpy.py\", line 87, in _run_code\n",
      "    exec(code, run_globals)\n",
      "  File \"C:\\Users\\hyunsoo\\study\\g\\Study_\\Mystudy\\DL_from_Scratch\\dl_3\\unittest.py\", line 2, in <module>\n",
      "    import unittest\n",
      "  File \"C:\\Users\\hyunsoo\\study\\g\\Study_\\Mystudy\\DL_from_Scratch\\dl_3\\unittest.py\", line 4, in <module>\n",
      "    class SquareTest(unittest.TestCase):\n",
      "AttributeError: partially initialized module 'unittest' has no attribute 'TestCase' (most likely due to a circular import)\n"
     ]
    }
   ],
   "source": [
    "# !python -m unittest unittest_square.py"
   ]
  },
  {
   "cell_type": "code",
   "execution_count": null,
   "id": "c7c718b7",
   "metadata": {},
   "outputs": [],
   "source": []
  }
 ],
 "metadata": {
  "kernelspec": {
   "display_name": "Python 3",
   "language": "python",
   "name": "python3"
  },
  "language_info": {
   "codemirror_mode": {
    "name": "ipython",
    "version": 3
   },
   "file_extension": ".py",
   "mimetype": "text/x-python",
   "name": "python",
   "nbconvert_exporter": "python",
   "pygments_lexer": "ipython3",
   "version": "3.8.8"
  },
  "varInspector": {
   "cols": {
    "lenName": 16,
    "lenType": 16,
    "lenVar": 40
   },
   "kernels_config": {
    "python": {
     "delete_cmd_postfix": "",
     "delete_cmd_prefix": "del ",
     "library": "var_list.py",
     "varRefreshCmd": "print(var_dic_list())"
    },
    "r": {
     "delete_cmd_postfix": ") ",
     "delete_cmd_prefix": "rm(",
     "library": "var_list.r",
     "varRefreshCmd": "cat(var_dic_list()) "
    }
   },
   "types_to_exclude": [
    "module",
    "function",
    "builtin_function_or_method",
    "instance",
    "_Feature"
   ],
   "window_display": false
  }
 },
 "nbformat": 4,
 "nbformat_minor": 5
}
