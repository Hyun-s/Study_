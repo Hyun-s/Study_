{
 "cells": [
  {
   "cell_type": "code",
   "execution_count": 83,
   "id": "3f248620",
   "metadata": {
    "ExecuteTime": {
     "end_time": "2022-05-02T08:55:18.805062Z",
     "start_time": "2022-05-02T08:55:18.755966Z"
    }
   },
   "outputs": [],
   "source": [
    "%%writefile util\n",
    "import numpy as np\n",
    "\n",
    "class Variable:\n",
    "    def __init__(self, data):\n",
    "        self.data = data\n",
    "        self.grad = None\n",
    "        self.creator = None\n",
    "        \n",
    "    def set_creator(self, func):\n",
    "        '''\n",
    "        연산 함수 저장(연결 기록)\n",
    "        '''\n",
    "        self.creator = func\n",
    "        \n",
    "    def backward_recur(self):\n",
    "        f = self.creator # 어떤 함수사용했는지 가져오기\n",
    "        if f is not None:\n",
    "            x = f.input # 입력 가져오기\n",
    "            x.grad = f.backward(self.grad) # 역전파 계산\n",
    "            print(x.data,x.grad)\n",
    "            x.backward_recur() # 재귀로 호출\n",
    "    \n",
    "    def backward(self):\n",
    "        funcs = [self.creator]\n",
    "        while(funcs):\n",
    "            f = funcs.pop()\n",
    "            x, y = f.input, f.output\n",
    "            x.grad = f.backward(y.grad)\n",
    "            print(x.data,x.grad)\n",
    "            if x.creator is not None:\n",
    "                funcs.append(x.creator)\n",
    "        \n",
    "class Function:\n",
    "    def __call__(self, input):\n",
    "        x = input.data\n",
    "        y = self.forward(x)\n",
    "        \n",
    "        output = Variable(y)\n",
    "        output.set_creator(self)\n",
    "        \n",
    "        self.input = input\n",
    "        self.output = output\n",
    "        return output\n",
    "    \n",
    "    def forward(self, x):\n",
    "        '''\n",
    "        연산 작성\n",
    "        '''\n",
    "        raise NotImplementedError() # 구현 안되어 있음을 의미\n",
    "        \n",
    "    def backward(self, gy):\n",
    "        '''\n",
    "        gy는 chain rule로 곱해주기 위해 이전의 기울기\n",
    "        '''\n",
    "        raise NotImplementedError()\n",
    "        \n",
    "class Square(Function):\n",
    "    def forward(self, x):\n",
    "        return x ** 2\n",
    "    \n",
    "    def backward(self, gy):\n",
    "        x = self.input.data\n",
    "        gx = 2 *  x * gy\n",
    "        return gx\n",
    "    \n",
    "class Exp(Function):\n",
    "    def forward(self, x):\n",
    "        return np.exp(x)\n",
    "    \n",
    "    def backward(self, gy):\n",
    "        x = self.input.data\n",
    "        gx = np.exp(x) * gy\n",
    "        return gx\n",
    "    \n",
    "    \n",
    "\n",
    "    \n",
    "def numerical_diff(f, x, eps=1e-4):\n",
    "    '''\n",
    "    numerical diff\n",
    "    수치 미분으로 f(x + h) - f(x - h) / 2*h : \n",
    "                  h : lim -> 0\n",
    "    '''\n",
    "    x0 = Variable(x.data - eps)\n",
    "    x1 = Variable(x.data + eps)\n",
    "    y0 = f(x0)\n",
    "    y1 = f(x1)\n",
    "    return (y1.data - y0.data) / (2 * eps)\n",
    "\n",
    "def f(x):\n",
    "    '''\n",
    "    composite function diff\n",
    "    '''\n",
    "    A = Square()\n",
    "    B = Exp()\n",
    "    C = Square()\n",
    "    return C(B(A(x)))"
   ]
  },
  {
   "cell_type": "code",
   "execution_count": 84,
   "id": "5fe81e6e",
   "metadata": {
    "ExecuteTime": {
     "end_time": "2022-05-02T08:55:19.026049Z",
     "start_time": "2022-05-02T08:55:18.994332Z"
    }
   },
   "outputs": [
    {
     "name": "stdout",
     "output_type": "stream",
     "text": [
      "0.25 1.2840254166877414 1.648721270700128\n",
      "1.648721270700128\n",
      "1.648721270700128\n",
      "3.2974426293330694 3.297442541400256\n"
     ]
    }
   ],
   "source": [
    "x = Variable(np.array(0.5))\n",
    "\n",
    "A = Square()\n",
    "B = Exp()\n",
    "C = Square()\n",
    "\n",
    "a = A(x)\n",
    "b = B(a)\n",
    "y = C(b)\n",
    "print(a.data, b.data,y.data)\n",
    "print(y.data)\n",
    "print(f(x).data)\n",
    "\n",
    "dy_ = numerical_diff(f,x)\n",
    "\n",
    "y.grad = np.array(1.0)\n",
    "b.grad = C.backward(y.grad)\n",
    "a.grad = B.backward(b.grad)\n",
    "x.grad = A.backward(a.grad)\n",
    "print(dy, x.grad)\n",
    "\n",
    "\n",
    "assert y.creator == C\n",
    "assert y.creator.input == b\n",
    "assert y.creator.input.creator == B\n",
    "assert y.creator.input.creator.input == a\n",
    "assert y.creator.input.creator.input.creator == A\n",
    "assert y.creator.input.creator.input.creator.input == x"
   ]
  },
  {
   "cell_type": "code",
   "execution_count": 85,
   "id": "68391262",
   "metadata": {
    "ExecuteTime": {
     "end_time": "2022-05-02T08:55:19.463293Z",
     "start_time": "2022-05-02T08:55:19.451886Z"
    }
   },
   "outputs": [
    {
     "name": "stdout",
     "output_type": "stream",
     "text": [
      "1.2840254166877414 2.568050833375483\n",
      "0.25 3.297442541400256\n",
      "0.5 3.297442541400256\n"
     ]
    }
   ],
   "source": [
    "y.backward_recur()"
   ]
  },
  {
   "cell_type": "code",
   "execution_count": 87,
   "id": "56335826",
   "metadata": {
    "ExecuteTime": {
     "end_time": "2022-05-02T08:55:36.905464Z",
     "start_time": "2022-05-02T08:55:36.888955Z"
    },
    "scrolled": true
   },
   "outputs": [
    {
     "name": "stdout",
     "output_type": "stream",
     "text": [
      "1.2840254166877414 2.568050833375483\n",
      "0.25 3.297442541400256\n",
      "0.5 3.297442541400256\n"
     ]
    }
   ],
   "source": [
    "y.backward()"
   ]
  },
  {
   "cell_type": "code",
   "execution_count": null,
   "id": "a453de67",
   "metadata": {},
   "outputs": [],
   "source": []
  }
 ],
 "metadata": {
  "kernelspec": {
   "display_name": "Python 3",
   "language": "python",
   "name": "python3"
  },
  "language_info": {
   "codemirror_mode": {
    "name": "ipython",
    "version": 3
   },
   "file_extension": ".py",
   "mimetype": "text/x-python",
   "name": "python",
   "nbconvert_exporter": "python",
   "pygments_lexer": "ipython3",
   "version": "3.8.8"
  },
  "varInspector": {
   "cols": {
    "lenName": 16,
    "lenType": 16,
    "lenVar": 40
   },
   "kernels_config": {
    "python": {
     "delete_cmd_postfix": "",
     "delete_cmd_prefix": "del ",
     "library": "var_list.py",
     "varRefreshCmd": "print(var_dic_list())"
    },
    "r": {
     "delete_cmd_postfix": ") ",
     "delete_cmd_prefix": "rm(",
     "library": "var_list.r",
     "varRefreshCmd": "cat(var_dic_list()) "
    }
   },
   "types_to_exclude": [
    "module",
    "function",
    "builtin_function_or_method",
    "instance",
    "_Feature"
   ],
   "window_display": false
  }
 },
 "nbformat": 4,
 "nbformat_minor": 5
}
