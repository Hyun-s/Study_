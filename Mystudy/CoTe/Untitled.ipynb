{
 "cells": [
  {
   "cell_type": "code",
   "execution_count": null,
   "id": "c0c68e5c",
   "metadata": {},
   "outputs": [],
   "source": [
    "# Definition for singly-linked list.\n",
    "class ListNode:\n",
    "    def __init__(self, val=0, next=None):\n",
    "        self.val = val\n",
    "        self.next = next\n",
    "import copy\n",
    "class Solution:\n",
    "    def addTwoNumbers(self, l1: Optional[ListNode], l2: Optional[ListNode]) -> Optional[ListNode]:\n",
    "#         out = ListNode()\n",
    "        idx = 0\n",
    "        chk1 = True\n",
    "        chk2 = True\n",
    "        while(True):\n",
    "            n1 = l1.val\n",
    "            n2 = l2.val\n",
    "            if n1 == None:\n",
    "                n1 = 0\n",
    "            if n2 == None:\n",
    "                n2 = 0\n",
    "            n1 = n1 * (10**idx)\n",
    "            n2 = n2 * (10**idx)\n",
    "\n",
    "            idx += 1\n",
    "        return\n",
    "    \n",
    "l1 = [2,4,3]\n",
    "l2 = [5,6,4]"
   ]
  },
  {
   "cell_type": "code",
   "execution_count": 1,
   "id": "8805d8f6",
   "metadata": {
    "ExecuteTime": {
     "end_time": "2022-02-21T05:47:09.365404Z",
     "start_time": "2022-02-21T05:47:09.349373Z"
    }
   },
   "outputs": [],
   "source": [
    "import numpy as np"
   ]
  },
  {
   "cell_type": "code",
   "execution_count": 12,
   "id": "24bba72f",
   "metadata": {
    "ExecuteTime": {
     "end_time": "2022-02-21T05:55:21.861828Z",
     "start_time": "2022-02-21T05:55:21.848072Z"
    }
   },
   "outputs": [],
   "source": [
    "x1 = np.random.normal(size=(2,1,512))\n",
    "x9 = np.random.normal(size=(1,1,512))"
   ]
  },
  {
   "cell_type": "code",
   "execution_count": 14,
   "id": "88b86f4d",
   "metadata": {
    "ExecuteTime": {
     "end_time": "2022-02-21T05:55:32.550565Z",
     "start_time": "2022-02-21T05:55:32.526583Z"
    }
   },
   "outputs": [
    {
     "data": {
      "text/plain": [
       "array([[[ 1.72715921,  1.92276528,  1.33544634, ..., -0.480175  ,\n",
       "         -0.83004025,  0.80281166]],\n",
       "\n",
       "       [[ 1.49750269,  0.0588892 , -0.99062861, ..., -0.49067742,\n",
       "         -1.15447288,  0.76391741]]])"
      ]
     },
     "execution_count": 14,
     "metadata": {},
     "output_type": "execute_result"
    }
   ],
   "source": [
    "x2 = np.mean(x1,axis=0)\n",
    "x1"
   ]
  },
  {
   "cell_type": "code",
   "execution_count": 15,
   "id": "84fcad13",
   "metadata": {
    "ExecuteTime": {
     "end_time": "2022-02-21T05:55:36.744134Z",
     "start_time": "2022-02-21T05:55:36.706819Z"
    },
    "scrolled": true
   },
   "outputs": [
    {
     "data": {
      "text/plain": [
       "array([[ 1.61233095,  0.99082724,  0.17240887, -1.13539256,  0.46655612,\n",
       "         0.54271741,  0.06208158, -0.47234384,  0.30090629, -0.65507929,\n",
       "         0.48458332,  0.05852261, -0.00841913, -0.96739848,  0.25137138,\n",
       "         0.55644035,  0.71344285,  0.26577816, -0.25571634, -0.28983972,\n",
       "        -0.01392844, -0.80458354,  0.62684481,  1.53807931,  0.80110903,\n",
       "        -0.39316895, -0.9021085 , -0.45546922, -0.87832358, -0.36137778,\n",
       "         0.56008119,  0.0595544 ,  0.40607479,  0.56500539, -0.24949708,\n",
       "        -0.17042186,  0.5559332 ,  0.69675463,  0.68282678,  1.19875708,\n",
       "         0.26528332, -0.28353137, -0.44137959, -1.27620401,  0.78878114,\n",
       "        -0.18185774,  0.60260608,  0.96062348, -1.16564673,  0.17005837,\n",
       "        -1.35230832, -0.79365488,  0.91107461,  0.4163994 ,  0.59122962,\n",
       "         0.53582062, -0.96761791,  0.79186792, -0.2406435 , -0.18594442,\n",
       "         0.51730238,  0.79494117, -0.05225816,  0.6390658 ,  0.85326751,\n",
       "        -0.70354301,  0.40318854, -0.23213462,  0.50596978,  0.27223798,\n",
       "        -0.12366339,  1.08965272, -0.11469423,  0.06012439, -1.41865127,\n",
       "        -0.5553918 , -1.67197395,  0.85634898,  0.2167623 ,  0.32437543,\n",
       "        -0.07665018, -0.0927194 ,  0.15594363,  0.23904356,  0.64860881,\n",
       "         1.06399876, -0.0724442 , -0.86198562,  1.02037916, -0.050519  ,\n",
       "         0.01965338, -0.18442353,  0.08786801,  0.74117822,  0.37920809,\n",
       "         0.18684765,  0.75584134, -0.32530503, -0.33379555, -0.40071472,\n",
       "         0.15544783, -0.8235805 , -0.21726345,  0.23560098,  0.59153597,\n",
       "        -0.80932135,  0.25329903,  0.33336848, -0.07324777, -0.97201461,\n",
       "        -0.51277046,  0.45884879, -0.14871606,  0.03790047,  1.23610783,\n",
       "        -0.7758008 , -0.78250475,  0.63250378,  0.32772553,  0.58422376,\n",
       "         0.11255684,  0.86049112, -0.25762012, -0.49881975, -0.66396036,\n",
       "        -0.19361352, -0.14109507, -0.54851709,  0.87959374,  0.81656617,\n",
       "         0.19675566,  0.12559093, -0.8214949 , -0.6358083 ,  0.55434832,\n",
       "         1.69913895, -0.62469354,  1.04213094, -0.09336057, -0.03315071,\n",
       "         0.10480334,  0.1278428 , -1.15287084, -0.31523544, -0.00709797,\n",
       "        -0.87397011,  0.59963863, -1.12750312,  1.56993297,  0.40470073,\n",
       "        -0.02302238,  0.50420578, -0.01963298,  0.25147075,  0.70217166,\n",
       "        -0.04125398,  0.28366934, -0.12201505,  0.0783924 , -0.00262196,\n",
       "        -0.15989745,  0.33203141,  1.37362062, -0.50430369, -1.00288065,\n",
       "         0.13575862, -0.41852601,  0.11858523, -0.25002138, -0.13744791,\n",
       "        -0.47360958, -1.1747239 ,  0.25608138, -1.5488555 , -0.585406  ,\n",
       "        -0.40399237, -1.80552733,  0.09556526, -1.5299924 , -0.14100425,\n",
       "        -1.18715964, -0.27336434, -0.08079876,  0.06344743,  0.98778924,\n",
       "        -0.19983295,  0.17104435, -0.05779322, -1.21160577, -0.43419598,\n",
       "         0.17997281, -1.11079981,  0.67830876,  1.45253331,  0.64234891,\n",
       "        -0.18982182, -0.47016147, -0.27820992, -0.38961014, -0.79250449,\n",
       "         1.03140996, -0.52796424, -0.37305501, -0.30712164, -0.70860222,\n",
       "         0.80902776, -0.31653725, -0.00644061, -0.00516488,  0.29217698,\n",
       "         0.9997879 , -0.37785283, -0.24972096, -0.31611817, -0.96676734,\n",
       "         0.34270483,  0.10962949, -0.16987714,  1.69891969, -0.92550451,\n",
       "         0.12993073,  0.06680165, -1.34700874, -0.28434529,  0.21976553,\n",
       "        -0.62334678,  0.52340753,  0.12534751,  0.58838774,  0.29617028,\n",
       "         0.20539323, -0.22218102,  0.47113927, -0.27641723,  0.20102715,\n",
       "        -1.09194916, -0.37131472, -0.45566708,  0.96511222,  0.60729144,\n",
       "        -0.29828339,  0.50075531,  0.45672354, -0.91667384,  0.75743297,\n",
       "        -0.42961502, -0.38557076, -0.32738108, -0.53165159, -0.06355488,\n",
       "         0.5703889 , -1.35772888, -0.04368471, -1.04039248, -0.18444227,\n",
       "         0.21896838, -0.18693994,  0.7474995 ,  0.72220623, -0.15588361,\n",
       "        -0.09064118,  0.14381528, -0.47681866, -1.17248932, -0.57833869,\n",
       "         0.05463228,  0.71846788, -1.03965496, -0.21048842, -0.27764799,\n",
       "        -0.72345859, -0.20640946, -0.35440001,  0.0377196 ,  0.06527997,\n",
       "         0.33152563,  0.42149318, -0.57404396,  0.1642174 ,  0.67611158,\n",
       "        -0.95380541, -0.40076844, -1.03346246, -1.21070968, -0.24147396,\n",
       "         0.12019876,  0.19268746,  0.79673598,  0.4187493 , -0.54812905,\n",
       "        -0.2154262 ,  0.58365383,  0.04226532,  1.32097504, -0.07102758,\n",
       "         0.53138837,  0.10828843,  0.33584109,  0.85231635,  0.75177674,\n",
       "        -0.76412367,  0.40226539,  0.19576611,  1.81592487,  0.56549569,\n",
       "        -0.62304551,  0.03152474,  0.35958344, -0.28490423, -0.78313145,\n",
       "        -0.83164257,  0.72978249,  0.5504507 , -1.85726295, -0.31712515,\n",
       "        -0.07020271,  0.37421423, -1.42077261,  0.95265972, -1.38451572,\n",
       "        -0.16079978,  0.46197418,  0.20851937,  0.48233852,  0.07315694,\n",
       "         1.25636351,  0.19851227,  0.02211508,  0.67500194,  0.36426991,\n",
       "         0.2665487 ,  0.80134318,  1.20029651, -0.28852578, -1.73047383,\n",
       "         0.69716829,  0.39066621,  0.07701435, -0.60775848,  0.11436482,\n",
       "        -0.86315339,  1.31791617,  0.14551637,  1.32087805,  1.16691409,\n",
       "        -0.86360871, -0.70946513, -1.31460022, -1.07188225, -0.29272644,\n",
       "         1.04285822, -1.01734283, -0.40145819, -0.7805611 , -0.51669567,\n",
       "        -1.13942114, -0.70819235, -0.35087359, -1.6637659 ,  0.75771241,\n",
       "        -1.04022764, -0.68087388, -0.11755444, -0.04178859, -1.31542334,\n",
       "         0.44675999, -0.09939635,  0.50369862,  0.62501465, -0.36010481,\n",
       "        -0.29138763, -0.63745217,  0.05828029, -0.72443267, -0.07153907,\n",
       "        -1.07672106, -0.69337216,  0.87716169, -0.70609317, -0.06774628,\n",
       "         0.41064771,  0.0243327 ,  0.01738243, -0.92945601, -0.79731649,\n",
       "        -0.33664325,  0.99607767, -0.24138807,  2.18953547,  0.01807486,\n",
       "         0.49022085, -0.28727102, -0.14223266,  0.52678934,  1.60544556,\n",
       "        -0.16769748,  0.0581929 , -0.49992596,  0.17329753,  0.66716836,\n",
       "        -0.16676967,  0.26930712,  0.06834222, -0.26264277, -0.63610462,\n",
       "         0.40587059,  1.03983374, -0.07964195, -0.75372154,  0.47405125,\n",
       "         0.40659434, -0.22461324, -0.04395785, -0.11928698, -0.37726302,\n",
       "         0.05711051, -0.20072054,  0.92891158, -0.68550465, -1.44110485,\n",
       "        -0.8162326 , -0.48282886,  0.85036978, -2.07544393,  0.10194227,\n",
       "        -0.17267247,  0.1392488 , -0.48455281, -1.34221906, -0.06003331,\n",
       "        -0.4156012 , -0.28194417, -0.83561072,  0.64635529, -0.62328895,\n",
       "         0.00820145, -0.54920715, -0.32659952,  0.49182981,  0.39655145,\n",
       "        -1.04227175, -0.01851585,  0.80928489, -1.22390962, -0.29613272,\n",
       "        -0.86182759, -0.30184734, -1.16491814,  0.05592218, -1.67935483,\n",
       "         0.12339982, -0.34953978, -0.36778163, -0.5830879 , -0.49379176,\n",
       "         0.60279339, -0.45125788,  1.97935295, -1.88475005,  0.70303318,\n",
       "         0.46425165, -0.20749158,  0.78343624,  1.35398694,  0.1759374 ,\n",
       "        -0.16177142,  0.14980513,  0.41926762, -1.23670024, -1.15996332,\n",
       "         0.38042837,  0.34589647, -0.98660323, -0.29779343, -0.5089667 ,\n",
       "         0.36708578,  0.16695475,  0.14404476, -0.41162147,  0.44737652,\n",
       "        -0.10868268,  1.01974125, -1.92065354,  0.50304719,  0.17375332,\n",
       "         0.7232582 ,  0.05172476,  0.35887325,  0.14100621, -0.31123132,\n",
       "         0.91363328,  0.71110562, -1.09846619,  0.0901217 ,  1.09031497,\n",
       "         0.30354642, -0.25957934,  1.05189217,  0.04909769,  0.67461966,\n",
       "        -1.53852081,  0.55630228,  0.9283303 ,  0.84616804,  0.90387366,\n",
       "         0.81192197,  0.04594734, -0.72683901, -0.03913552, -0.48542621,\n",
       "        -0.99225657,  0.78336454]])"
      ]
     },
     "execution_count": 15,
     "metadata": {},
     "output_type": "execute_result"
    }
   ],
   "source": [
    "x2"
   ]
  },
  {
   "cell_type": "code",
   "execution_count": 6,
   "id": "1038b314",
   "metadata": {
    "ExecuteTime": {
     "end_time": "2022-02-21T05:49:31.085900Z",
     "start_time": "2022-02-21T05:49:30.680502Z"
    }
   },
   "outputs": [
    {
     "data": {
      "text/plain": [
       "(array([  2.,  13.,  34.,  66., 107., 150.,  73.,  44.,  19.,   4.]),\n",
       " array([-3.30862613, -2.67298605, -2.03734596, -1.40170587, -0.76606579,\n",
       "        -0.1304257 ,  0.50521438,  1.14085447,  1.77649456,  2.41213464,\n",
       "         3.04777473]),\n",
       " <BarContainer object of 10 artists>)"
      ]
     },
     "execution_count": 6,
     "metadata": {},
     "output_type": "execute_result"
    },
    {
     "data": {
      "image/png": "[encoded data removed]",
      "text/plain": [
       "<Figure size 432x288 with 1 Axes>"
      ]
     },
     "metadata": {
      "needs_background": "light"
     },
     "output_type": "display_data"
    }
   ],
   "source": [
    "import matplotlib.pyplot as plt\n",
    "\n",
    "plt.hist(x.flatten())"
   ]
  },
  {
   "cell_type": "code",
   "execution_count": 26,
   "id": "8adb540f",
   "metadata": {
    "ExecuteTime": {
     "end_time": "2022-02-25T07:39:05.028102Z",
     "start_time": "2022-02-25T07:39:05.013797Z"
    }
   },
   "outputs": [],
   "source": [
    "import numpy as np\n",
    "\n",
    "x = np.random.normal(size=(1,1,1,512))\n",
    "for idx in range(99):\n",
    "    x = np.append(x,np.random.normal(size=(1,1,1,512)),axis=0)\n",
    "    \n",
    "idx = list(np.random.choice(100,16))\n",
    "x[idx,].shape"
   ]
  },
  {
   "cell_type": "code",
   "execution_count": 27,
   "id": "ebf3287e",
   "metadata": {
    "ExecuteTime": {
     "end_time": "2022-02-25T07:39:07.958405Z",
     "start_time": "2022-02-25T07:39:07.944067Z"
    }
   },
   "outputs": [
    {
     "name": "stdout",
     "output_type": "stream",
     "text": [
      "-0.06510376310694535\n",
      "0.005399192546470186\n",
      "-0.003930746461367887\n",
      "-0.012402209578587248\n",
      "0.01928871110693081\n",
      "0.0776267993717544\n",
      "-0.0384037216895456\n",
      "-0.01252062616470485\n",
      "0.021492833323378067\n",
      "-0.050892059007483434\n",
      "0.014442779243759734\n",
      "0.006694769917301434\n",
      "0.05794833128887127\n",
      "-0.03580149960611612\n",
      "0.08298536569236063\n",
      "0.04010496644802063\n",
      "0.015042683084760474\n",
      "0.07235707448818565\n",
      "0.044469414955121224\n",
      "-0.034952805539130265\n",
      "-0.013330445502855767\n",
      "-0.08671076287750538\n",
      "-0.030172893215345775\n",
      "0.0014190040651526833\n",
      "0.07458394568602572\n",
      "0.1103200862821839\n",
      "0.17781388704117984\n",
      "-0.022946087131247662\n",
      "0.022162279647149986\n",
      "-0.04209832375994687\n",
      "0.0198040656889333\n",
      "0.10256731258956914\n",
      "-0.013103104978217602\n",
      "0.013851489388429113\n",
      "-0.06775754881816207\n",
      "0.03977164372556799\n",
      "0.01773878504982738\n",
      "0.02387530025136567\n",
      "-0.013243599843325158\n",
      "-0.06880079356557069\n",
      "0.057141428699958995\n",
      "0.00859597347586561\n",
      "-0.028606033045359604\n",
      "-0.049824866948243535\n",
      "0.012033711096506965\n",
      "-0.0005976869521326644\n",
      "0.054718216628093536\n",
      "-0.058289552602621156\n",
      "0.06497895924631798\n",
      "0.0014377669308794395\n",
      "-0.009997098694026848\n",
      "0.0685870599719475\n",
      "0.04795158898104423\n",
      "0.028844637934809927\n",
      "0.060762775506218426\n",
      "0.025404931442320478\n",
      "0.00032922460338699264\n",
      "0.07664409657235194\n",
      "0.028635608871552885\n",
      "-0.004747397507200629\n",
      "0.006808798696971487\n",
      "0.05835384334484099\n",
      "0.02186895914929916\n",
      "0.032039088700702115\n",
      "0.0447545527311754\n",
      "0.044082558099227794\n",
      "0.022962113893295083\n",
      "0.011631489598062443\n",
      "0.05529465062515723\n",
      "0.04757109528486686\n",
      "-0.011771624446760954\n",
      "-0.05119839863328854\n",
      "0.038872994205396985\n",
      "0.040713552642125714\n",
      "-0.006433219947282414\n",
      "0.05485256476304201\n",
      "0.032051421951202946\n",
      "-0.028776081235672372\n",
      "-0.02087521719211805\n",
      "-0.0027476333593138037\n",
      "0.05514864444090445\n",
      "0.01619650510096057\n",
      "0.004788290654320036\n",
      "-0.05788470211546455\n",
      "0.06395804505595078\n",
      "0.033097880812255585\n",
      "0.06132453627680338\n",
      "-0.03349439496277383\n",
      "-0.004984673136094672\n",
      "0.030029432978403187\n",
      "-0.07162458055566341\n",
      "0.020061515954417016\n",
      "0.022017703710495343\n",
      "-0.06862673592726425\n",
      "-0.017259506124740472\n",
      "0.03436583616103572\n",
      "-0.034110343481133336\n",
      "-0.014496361136225253\n",
      "-0.04047512304890238\n",
      "0.004784786628172503\n",
      "0.012264653404042982\n"
     ]
    }
   ],
   "source": [
    "for idx in range(100):\n",
    "    print(np.mean(x[idx]))\n",
    "print(np.mean(x))"
   ]
  },
  {
   "cell_type": "code",
   "execution_count": 31,
   "id": "f39feb7c",
   "metadata": {
    "ExecuteTime": {
     "end_time": "2022-02-25T07:41:57.574050Z",
     "start_time": "2022-02-25T07:41:57.563470Z"
    }
   },
   "outputs": [
    {
     "data": {
      "text/plain": [
       "(16, 1, 1, 512)"
      ]
     },
     "execution_count": 31,
     "metadata": {},
     "output_type": "execute_result"
    }
   ],
   "source": [
    "x.shape\n",
    "idx = list(np.random.choice(100,16))\n",
    "x[idx,].shape"
   ]
  },
  {
   "cell_type": "code",
   "execution_count": 32,
   "id": "2e5bff6e",
   "metadata": {
    "ExecuteTime": {
     "end_time": "2022-02-25T08:28:30.408934Z",
     "start_time": "2022-02-25T08:28:30.386741Z"
    }
   },
   "outputs": [
    {
     "data": {
      "text/plain": [
       "array([0, 1, 0, 1, 1])"
      ]
     },
     "execution_count": 32,
     "metadata": {},
     "output_type": "execute_result"
    }
   ],
   "source": [
    "pr = np.array([5,2,4,1,2])\n",
    "tr = np.array([1,1,1,0,0])\n",
    "\n",
    "tr[np.argsort(pr)]"
   ]
  },
  {
   "cell_type": "code",
   "execution_count": 35,
   "id": "d16d7f6d",
   "metadata": {
    "ExecuteTime": {
     "end_time": "2022-02-26T06:57:00.602770Z",
     "start_time": "2022-02-26T06:57:00.571597Z"
    }
   },
   "outputs": [],
   "source": [
    "import numpy as np\n",
    "\n",
    "x =  np.random.normal(size=(1,1,512))"
   ]
  },
  {
   "cell_type": "code",
   "execution_count": 37,
   "id": "4ee7f3c0",
   "metadata": {
    "ExecuteTime": {
     "end_time": "2022-02-26T06:57:08.537968Z",
     "start_time": "2022-02-26T06:57:08.520914Z"
    }
   },
   "outputs": [
    {
     "data": {
      "text/plain": [
       "0.04444035859725305"
      ]
     },
     "execution_count": 37,
     "metadata": {},
     "output_type": "execute_result"
    }
   ],
   "source": [
    "np.mean(x)"
   ]
  },
  {
   "cell_type": "code",
   "execution_count": 38,
   "id": "a057865f",
   "metadata": {
    "ExecuteTime": {
     "end_time": "2022-02-26T06:57:13.254496Z",
     "start_time": "2022-02-26T06:57:13.228413Z"
    }
   },
   "outputs": [
    {
     "data": {
      "text/plain": [
       "0.9808753280666367"
      ]
     },
     "execution_count": 38,
     "metadata": {},
     "output_type": "execute_result"
    }
   ],
   "source": [
    "np.std(x)"
   ]
  },
  {
   "cell_type": "code",
   "execution_count": null,
   "id": "f4a04b31",
   "metadata": {},
   "outputs": [],
   "source": []
  }
 ],
 "metadata": {
  "kernelspec": {
   "display_name": "Python 3",
   "language": "python",
   "name": "python3"
  },
  "language_info": {
   "codemirror_mode": {
    "name": "ipython",
    "version": 3
   },
   "file_extension": ".py",
   "mimetype": "text/x-python",
   "name": "python",
   "nbconvert_exporter": "python",
   "pygments_lexer": "ipython3",
   "version": "3.8.8"
  },
  "varInspector": {
   "cols": {
    "lenName": 16,
    "lenType": 16,
    "lenVar": 40
   },
   "kernels_config": {
    "python": {
     "delete_cmd_postfix": "",
     "delete_cmd_prefix": "del ",
     "library": "var_list.py",
     "varRefreshCmd": "print(var_dic_list())"
    },
    "r": {
     "delete_cmd_postfix": ") ",
     "delete_cmd_prefix": "rm(",
     "library": "var_list.r",
     "varRefreshCmd": "cat(var_dic_list()) "
    }
   },
   "types_to_exclude": [
    "module",
    "function",
    "builtin_function_or_method",
    "instance",
    "_Feature"
   ],
   "window_display": false
  }
 },
 "nbformat": 4,
 "nbformat_minor": 5
}
