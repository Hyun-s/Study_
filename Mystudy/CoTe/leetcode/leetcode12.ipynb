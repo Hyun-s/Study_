{
 "cells": [
  {
   "cell_type": "code",
   "execution_count": 4,
   "id": "13c1e112",
   "metadata": {
    "ExecuteTime": {
     "end_time": "2021-12-30T07:50:38.310497Z",
     "start_time": "2021-12-30T07:50:38.294496Z"
    }
   },
   "outputs": [
    {
     "data": {
      "text/plain": [
       "411.0"
      ]
     },
     "execution_count": 4,
     "metadata": {},
     "output_type": "execute_result"
    }
   ],
   "source": [
    "324+(13.5 * 4) + (4*3*1) + (3.5*3*2)"
   ]
  },
  {
   "cell_type": "code",
   "execution_count": 5,
   "id": "6fecfa8f",
   "metadata": {
    "ExecuteTime": {
     "end_time": "2021-12-30T07:51:05.459967Z",
     "start_time": "2021-12-30T07:51:05.445969Z"
    }
   },
   "outputs": [
    {
     "data": {
      "text/plain": [
       "3.7363636363636363"
      ]
     },
     "execution_count": 5,
     "metadata": {},
     "output_type": "execute_result"
    }
   ],
   "source": [
    "411/(89+21)"
   ]
  },
  {
   "cell_type": "code",
   "execution_count": null,
   "id": "51131d0f",
   "metadata": {},
   "outputs": [],
   "source": []
  }
 ],
 "metadata": {
  "kernelspec": {
   "display_name": "Python 3",
   "language": "python",
   "name": "python3"
  },
  "language_info": {
   "codemirror_mode": {
    "name": "ipython",
    "version": 3
   },
   "file_extension": ".py",
   "mimetype": "text/x-python",
   "name": "python",
   "nbconvert_exporter": "python",
   "pygments_lexer": "ipython3",
   "version": "3.8.8"
  },
  "varInspector": {
   "cols": {
    "lenName": 16,
    "lenType": 16,
    "lenVar": 40
   },
   "kernels_config": {
    "python": {
     "delete_cmd_postfix": "",
     "delete_cmd_prefix": "del ",
     "library": "var_list.py",
     "varRefreshCmd": "print(var_dic_list())"
    },
    "r": {
     "delete_cmd_postfix": ") ",
     "delete_cmd_prefix": "rm(",
     "library": "var_list.r",
     "varRefreshCmd": "cat(var_dic_list()) "
    }
   },
   "types_to_exclude": [
    "module",
    "function",
    "builtin_function_or_method",
    "instance",
    "_Feature"
   ],
   "window_display": false
  }
 },
 "nbformat": 4,
 "nbformat_minor": 5
}
