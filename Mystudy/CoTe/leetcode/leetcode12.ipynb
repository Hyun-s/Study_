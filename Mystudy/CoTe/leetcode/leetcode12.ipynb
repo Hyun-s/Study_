{
 "cells": [
  {
   "cell_type": "code",
   "execution_count": 18,
   "id": "ac86bb92",
   "metadata": {
    "ExecuteTime": {
     "end_time": "2021-12-30T06:31:08.689928Z",
     "start_time": "2021-12-30T06:31:08.678929Z"
    }
   },
   "outputs": [],
   "source": [
    "class Solution:\n",
    "    def intToRoman(self, num: int) -> str:\n",
    "        dic = {1:'I',\n",
    "               4:'IV',\n",
    "               5:'V',\n",
    "               9:'IX',\n",
    "               10:'X',\n",
    "               40:'XL',\n",
    "               50:'L',\n",
    "               90:'XC',\n",
    "               100:'C',\n",
    "               400:'CD',\n",
    "               500:'D',\n",
    "               900:'CM',\n",
    "               1000:'M'}\n",
    "        out = ''\n",
    "        for x in list(dic.keys())[::-1]:\n",
    "#             print(x,num)\n",
    "            if x <= num:\n",
    "                cnt = num //x\n",
    "                num = num%x\n",
    "                print(cnt,num,x)\n",
    "                for k in range(cnt):\n",
    "                    out+=dic[x]\n",
    "                    print(out)"
   ]
  },
  {
   "cell_type": "code",
   "execution_count": 19,
   "id": "237bca7b",
   "metadata": {
    "ExecuteTime": {
     "end_time": "2021-12-30T06:31:09.636635Z",
     "start_time": "2021-12-30T06:31:09.630636Z"
    }
   },
   "outputs": [
    {
     "name": "stdout",
     "output_type": "stream",
     "text": [
      "1 0 5\n",
      "V\n"
     ]
    }
   ],
   "source": [
    "s = Solution()\n",
    "\n",
    "s.intToRoman(5)"
   ]
  },
  {
   "cell_type": "code",
   "execution_count": 9,
   "id": "a3abf440",
   "metadata": {
    "ExecuteTime": {
     "end_time": "2021-12-30T06:29:44.614322Z",
     "start_time": "2021-12-30T06:29:44.595319Z"
    }
   },
   "outputs": [
    {
     "data": {
      "text/plain": [
       "0"
      ]
     },
     "execution_count": 9,
     "metadata": {},
     "output_type": "execute_result"
    }
   ],
   "source": [
    "5 % 5"
   ]
  },
  {
   "cell_type": "code",
   "execution_count": null,
   "id": "c1bb0697",
   "metadata": {},
   "outputs": [],
   "source": []
  }
 ],
 "metadata": {
  "kernelspec": {
   "display_name": "Python 3",
   "language": "python",
   "name": "python3"
  },
  "language_info": {
   "codemirror_mode": {
    "name": "ipython",
    "version": 3
   },
   "file_extension": ".py",
   "mimetype": "text/x-python",
   "name": "python",
   "nbconvert_exporter": "python",
   "pygments_lexer": "ipython3",
   "version": "3.8.8"
  },
  "varInspector": {
   "cols": {
    "lenName": 16,
    "lenType": 16,
    "lenVar": 40
   },
   "kernels_config": {
    "python": {
     "delete_cmd_postfix": "",
     "delete_cmd_prefix": "del ",
     "library": "var_list.py",
     "varRefreshCmd": "print(var_dic_list())"
    },
    "r": {
     "delete_cmd_postfix": ") ",
     "delete_cmd_prefix": "rm(",
     "library": "var_list.r",
     "varRefreshCmd": "cat(var_dic_list()) "
    }
   },
   "types_to_exclude": [
    "module",
    "function",
    "builtin_function_or_method",
    "instance",
    "_Feature"
   ],
   "window_display": false
  }
 },
 "nbformat": 4,
 "nbformat_minor": 5
}
