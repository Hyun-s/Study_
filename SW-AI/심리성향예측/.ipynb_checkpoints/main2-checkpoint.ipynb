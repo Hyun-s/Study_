{
 "cells": [
  {
   "cell_type": "markdown",
   "metadata": {
    "id": "d1AutUzH_DRN"
   },
   "source": [
    "# **Model1 : RandomForest/ Lgbm/ GradientBoosting Ensemble**\n"
   ]
  },
  {
   "cell_type": "markdown",
   "metadata": {
    "id": "rkKtYNjKVS5Z"
   },
   "source": [
    "## 1. Libraries"
   ]
  },
  {
   "cell_type": "code",
   "execution_count": 1,
   "metadata": {},
   "outputs": [],
   "source": [
    "from pycaret.classification import *"
   ]
  },
  {
   "cell_type": "code",
   "execution_count": 2,
   "metadata": {
    "id": "gSxJtsRdWFKg"
   },
   "outputs": [],
   "source": [
    "import pandas as pd\n",
    "import seaborn as sns\n",
    "import matplotlib.pyplot as plt\n",
    "\n",
    "from string import ascii_lowercase\n",
    "from itertools import combinations\n",
    "\n",
    "import lightgbm as lgb\n",
    "from sklearn.ensemble import RandomForestClassifier\n",
    "from lightgbm import LGBMClassifier\n",
    "from sklearn.ensemble import  GradientBoostingClassifier\n",
    "\n",
    "from sklearn.ensemble import VotingClassifier\n",
    "from sklearn.model_selection import KFold\n",
    "from sklearn.model_selection import cross_val_score"
   ]
  },
  {
   "cell_type": "markdown",
   "metadata": {
    "id": "I6hPUKdD_Mlj"
   },
   "source": [
    "## 2. Loading the data\n"
   ]
  },
  {
   "cell_type": "code",
   "execution_count": 3,
   "metadata": {
    "id": "3PK6y97__URQ"
   },
   "outputs": [],
   "source": [
    "train = pd.read_csv('./data/train.csv')\n",
    "test = pd.read_csv('./data/test_x.csv')"
   ]
  },
  {
   "cell_type": "markdown",
   "metadata": {
    "id": "R8kEbkm7VuSl"
   },
   "source": [
    "## 4. Feature Engineering"
   ]
  },
  {
   "cell_type": "code",
   "execution_count": 4,
   "metadata": {
    "id": "klweHO2HC1Y5"
   },
   "outputs": [],
   "source": [
    "x_train = train.copy()"
   ]
  },
  {
   "cell_type": "code",
   "execution_count": 5,
   "metadata": {
    "id": "1lYCUhcFLntw"
   },
   "outputs": [],
   "source": [
    "dataset = [x_train, test]"
   ]
  },
  {
   "cell_type": "markdown",
   "metadata": {
    "id": "vMtqff2wNp7W"
   },
   "source": [
    "### 마키아밸리 테스트 FE"
   ]
  },
  {
   "cell_type": "code",
   "execution_count": 6,
   "metadata": {
    "id": "qUy-JTR7XuqI"
   },
   "outputs": [],
   "source": [
    "questions = [i for i in list(ascii_lowercase)[:20]]\n",
    "answers = [('Q'+i+'A') for i in questions]"
   ]
  },
  {
   "cell_type": "code",
   "execution_count": 7,
   "metadata": {
    "id": "JpCefwcYr5VG"
   },
   "outputs": [],
   "source": [
    "# for data in dataset:\n",
    "#   data['T'] = data['QcA'] - data['QfA'] + data['QoA'] - data['QrA'] + data['QsA']\n",
    "#   data['V'] = data['QbA'] - data['QeA'] + data['QhA'] + data['QjA'] + data['QmA'] - data['QqA']\n",
    "#   data['M'] = - data['QkA']"
   ]
  },
  {
   "cell_type": "markdown",
   "metadata": {
    "id": "qUErgiuSOyzs"
   },
   "source": [
    "Tactic/ Morality/ View에 따라 feature 항목을 나눠보았습니다."
   ]
  },
  {
   "cell_type": "code",
   "execution_count": 8,
   "metadata": {
    "id": "fTY7WeVyQiEc"
   },
   "outputs": [],
   "source": [
    "flipping_columns = [\"QeA\", \"QfA\", \"QkA\", \"QqA\", \"QrA\"]\n",
    "for data in dataset:\n",
    "  for flip in flipping_columns: \n",
    "    data[flip] = 6 - data[flip]"
   ]
  },
  {
   "cell_type": "code",
   "execution_count": 9,
   "metadata": {
    "id": "ybrQ2ewiXi8J"
   },
   "outputs": [],
   "source": [
    "flipping_secret_columns = [\"QaA\", \"QdA\", \"QgA\", \"QiA\", \"QnA\"]\n",
    "for data in dataset:\n",
    "  for flip in flipping_secret_columns: \n",
    "    data[flip] = 6 - data[flip]"
   ]
  },
  {
   "cell_type": "code",
   "execution_count": 10,
   "metadata": {
    "id": "UyHOrzOeYJ4i"
   },
   "outputs": [],
   "source": [
    "for data in dataset:\n",
    "  data['Mach_score'] = data[answers].mean(axis = 1)"
   ]
  },
  {
   "cell_type": "code",
   "execution_count": 11,
   "metadata": {
    "id": "FSRyiOFJbkbc"
   },
   "outputs": [],
   "source": [
    "for data in dataset:\n",
    "  data['delay'] = data[[('Q'+i+'E') for i in questions]].sum(axis=1)\n",
    "  data['delay'] = data['delay'] ** (1/10)"
   ]
  },
  {
   "cell_type": "code",
   "execution_count": 12,
   "metadata": {
    "id": "fA1O5pfX5__b"
   },
   "outputs": [],
   "source": [
    "Ancoms = list(combinations(answers, 2))\n",
    "for data in dataset:\n",
    "  for a,b in Ancoms:\n",
    "    data['%s_dv_%s'%(a,b)] = data[a]/data[b]"
   ]
  },
  {
   "cell_type": "code",
   "execution_count": 13,
   "metadata": {
    "id": "jLLvq_slW0eE"
   },
   "outputs": [],
   "source": [
    "for data in dataset:\n",
    "  data.drop([('Q'+i+'A') for i in questions], axis = 1, inplace = True)\n",
    "  data.drop([('Q'+i+'E') for i in questions], axis = 1, inplace = True)"
   ]
  },
  {
   "cell_type": "markdown",
   "metadata": {
    "id": "ClyHfeGMXOvO"
   },
   "source": [
    "### 나머지 Features\n"
   ]
  },
  {
   "cell_type": "code",
   "execution_count": 14,
   "metadata": {
    "id": "fvWxbrvU1n1L"
   },
   "outputs": [],
   "source": [
    "for data in dataset:\n",
    "  data.drop('hand', axis=1, inplace = True)"
   ]
  },
  {
   "cell_type": "code",
   "execution_count": 15,
   "metadata": {
    "id": "lCkKKWvZcHmP"
   },
   "outputs": [],
   "source": [
    "wr_list = [('wr_0'+str(i)) for i in range(1,10)]\n",
    "wr_list.extend([('wr_'+str(i)) for i in range(10,14)])\n",
    "wr_no_need = [i for i in wr_list if i not in ['wr_01', 'wr_03', 'wr_06', 'wr_09', 'wr_11']]"
   ]
  },
  {
   "cell_type": "markdown",
   "metadata": {
    "id": "Dx_9NgNxQNY7"
   },
   "source": [
    "EDA에서 결과에 큰 영향이 없다고 판단된 feature들을 제거해주었습니다."
   ]
  },
  {
   "cell_type": "code",
   "execution_count": 16,
   "metadata": {
    "id": "W8oSj6qXDCOr"
   },
   "outputs": [],
   "source": [
    "for data in dataset:\n",
    "  data.drop(wr_no_need, axis=1, inplace = True)"
   ]
  },
  {
   "cell_type": "code",
   "execution_count": 17,
   "metadata": {
    "id": "zEE7Bwvw8KGJ"
   },
   "outputs": [],
   "source": [
    "for data in dataset:\n",
    "  data['Ex'] = (data['tp01']+data['tp06'])/2\n",
    "  data['Ag'] = (data['tp07']+data['tp02'])/2\n",
    "  data['Con'] = (data['tp03']+data['tp08'])/2\n",
    "  data['Es'] =(data['tp09']+data['tp04'])/2\n",
    "  data['Op'] =(data['tp05']+data['tp10'])/2"
   ]
  },
  {
   "cell_type": "markdown",
   "metadata": {
    "id": "LXwQqRf8P6Nf"
   },
   "source": [
    "TIPI test에 따라 feature 항목을 나눠놓았는데, 이때는 tipi feature들이 flip된 형태로 저장되어있는지 몰라서 따로 전처리를 해주지 않았었습니다."
   ]
  },
  {
   "cell_type": "code",
   "execution_count": 18,
   "metadata": {
    "id": "4rPT3qv2Bqiy"
   },
   "outputs": [],
   "source": [
    "for data in dataset:\n",
    "  data.drop([('tp0'+str(i)) for i in range(1,10)], axis=1, inplace = True)\n",
    "  data.drop('tp10', axis = 1, inplace = True)"
   ]
  },
  {
   "cell_type": "code",
   "execution_count": 19,
   "metadata": {
    "id": "nMLbZ8yMg0Pk"
   },
   "outputs": [],
   "source": [
    "index = test['index']\n",
    "for data in dataset:\n",
    "  data.drop('index', axis = 1, inplace = True)"
   ]
  },
  {
   "cell_type": "code",
   "execution_count": 20,
   "metadata": {
    "id": "6JOx1qf1dcKf"
   },
   "outputs": [],
   "source": [
    "from sklearn.preprocessing import LabelEncoder\n",
    "encoder = LabelEncoder()\n",
    "needenco = ['age_group', 'gender', 'race', 'religion']\n",
    "for i in needenco:\n",
    "  x_train[i] = encoder.fit_transform(x_train[i])\n",
    "  test[i] = encoder.transform(test[i])"
   ]
  },
  {
   "cell_type": "markdown",
   "metadata": {
    "id": "ks8e45KAV4qF"
   },
   "source": [
    "## 5. Model"
   ]
  },
  {
   "cell_type": "code",
   "execution_count": 21,
   "metadata": {},
   "outputs": [],
   "source": [
    "x_train_temp = x_train.copy()"
   ]
  },
  {
   "cell_type": "code",
   "execution_count": 22,
   "metadata": {},
   "outputs": [
    {
     "data": {
      "text/html": [
       "<style type=\"text/css\">\n",
       "#T_06674_row9_col1 {\n",
       "  background-color: lightgreen;\n",
       "}\n",
       "</style>\n",
       "<table id=\"T_06674\">\n",
       "  <thead>\n",
       "    <tr>\n",
       "      <th class=\"blank level0\" >&nbsp;</th>\n",
       "      <th id=\"T_06674_level0_col0\" class=\"col_heading level0 col0\" >Description</th>\n",
       "      <th id=\"T_06674_level0_col1\" class=\"col_heading level0 col1\" >Value</th>\n",
       "    </tr>\n",
       "  </thead>\n",
       "  <tbody>\n",
       "    <tr>\n",
       "      <th id=\"T_06674_level0_row0\" class=\"row_heading level0 row0\" >0</th>\n",
       "      <td id=\"T_06674_row0_col0\" class=\"data row0 col0\" >Session id</td>\n",
       "      <td id=\"T_06674_row0_col1\" class=\"data row0 col1\" >1028</td>\n",
       "    </tr>\n",
       "    <tr>\n",
       "      <th id=\"T_06674_level0_row1\" class=\"row_heading level0 row1\" >1</th>\n",
       "      <td id=\"T_06674_row1_col0\" class=\"data row1 col0\" >Target</td>\n",
       "      <td id=\"T_06674_row1_col1\" class=\"data row1 col1\" >voted</td>\n",
       "    </tr>\n",
       "    <tr>\n",
       "      <th id=\"T_06674_level0_row2\" class=\"row_heading level0 row2\" >2</th>\n",
       "      <td id=\"T_06674_row2_col0\" class=\"data row2 col0\" >Target type</td>\n",
       "      <td id=\"T_06674_row2_col1\" class=\"data row2 col1\" >Binary</td>\n",
       "    </tr>\n",
       "    <tr>\n",
       "      <th id=\"T_06674_level0_row3\" class=\"row_heading level0 row3\" >3</th>\n",
       "      <td id=\"T_06674_row3_col0\" class=\"data row3 col0\" >Target mapping</td>\n",
       "      <td id=\"T_06674_row3_col1\" class=\"data row3 col1\" >1: 0, 2: 1</td>\n",
       "    </tr>\n",
       "    <tr>\n",
       "      <th id=\"T_06674_level0_row4\" class=\"row_heading level0 row4\" >4</th>\n",
       "      <td id=\"T_06674_row4_col0\" class=\"data row4 col0\" >Original data shape</td>\n",
       "      <td id=\"T_06674_row4_col1\" class=\"data row4 col1\" >(45532, 215)</td>\n",
       "    </tr>\n",
       "    <tr>\n",
       "      <th id=\"T_06674_level0_row5\" class=\"row_heading level0 row5\" >5</th>\n",
       "      <td id=\"T_06674_row5_col0\" class=\"data row5 col0\" >Transformed data shape</td>\n",
       "      <td id=\"T_06674_row5_col1\" class=\"data row5 col1\" >(45532, 215)</td>\n",
       "    </tr>\n",
       "    <tr>\n",
       "      <th id=\"T_06674_level0_row6\" class=\"row_heading level0 row6\" >6</th>\n",
       "      <td id=\"T_06674_row6_col0\" class=\"data row6 col0\" >Transformed train set shape</td>\n",
       "      <td id=\"T_06674_row6_col1\" class=\"data row6 col1\" >(31872, 215)</td>\n",
       "    </tr>\n",
       "    <tr>\n",
       "      <th id=\"T_06674_level0_row7\" class=\"row_heading level0 row7\" >7</th>\n",
       "      <td id=\"T_06674_row7_col0\" class=\"data row7 col0\" >Transformed test set shape</td>\n",
       "      <td id=\"T_06674_row7_col1\" class=\"data row7 col1\" >(13660, 215)</td>\n",
       "    </tr>\n",
       "    <tr>\n",
       "      <th id=\"T_06674_level0_row8\" class=\"row_heading level0 row8\" >8</th>\n",
       "      <td id=\"T_06674_row8_col0\" class=\"data row8 col0\" >Numeric features</td>\n",
       "      <td id=\"T_06674_row8_col1\" class=\"data row8 col1\" >214</td>\n",
       "    </tr>\n",
       "    <tr>\n",
       "      <th id=\"T_06674_level0_row9\" class=\"row_heading level0 row9\" >9</th>\n",
       "      <td id=\"T_06674_row9_col0\" class=\"data row9 col0\" >Preprocess</td>\n",
       "      <td id=\"T_06674_row9_col1\" class=\"data row9 col1\" >True</td>\n",
       "    </tr>\n",
       "    <tr>\n",
       "      <th id=\"T_06674_level0_row10\" class=\"row_heading level0 row10\" >10</th>\n",
       "      <td id=\"T_06674_row10_col0\" class=\"data row10 col0\" >Imputation type</td>\n",
       "      <td id=\"T_06674_row10_col1\" class=\"data row10 col1\" >simple</td>\n",
       "    </tr>\n",
       "    <tr>\n",
       "      <th id=\"T_06674_level0_row11\" class=\"row_heading level0 row11\" >11</th>\n",
       "      <td id=\"T_06674_row11_col0\" class=\"data row11 col0\" >Numeric imputation</td>\n",
       "      <td id=\"T_06674_row11_col1\" class=\"data row11 col1\" >mean</td>\n",
       "    </tr>\n",
       "    <tr>\n",
       "      <th id=\"T_06674_level0_row12\" class=\"row_heading level0 row12\" >12</th>\n",
       "      <td id=\"T_06674_row12_col0\" class=\"data row12 col0\" >Categorical imputation</td>\n",
       "      <td id=\"T_06674_row12_col1\" class=\"data row12 col1\" >constant</td>\n",
       "    </tr>\n",
       "    <tr>\n",
       "      <th id=\"T_06674_level0_row13\" class=\"row_heading level0 row13\" >13</th>\n",
       "      <td id=\"T_06674_row13_col0\" class=\"data row13 col0\" >Low variance threshold</td>\n",
       "      <td id=\"T_06674_row13_col1\" class=\"data row13 col1\" >0</td>\n",
       "    </tr>\n",
       "    <tr>\n",
       "      <th id=\"T_06674_level0_row14\" class=\"row_heading level0 row14\" >14</th>\n",
       "      <td id=\"T_06674_row14_col0\" class=\"data row14 col0\" >Fold Generator</td>\n",
       "      <td id=\"T_06674_row14_col1\" class=\"data row14 col1\" >StratifiedKFold</td>\n",
       "    </tr>\n",
       "    <tr>\n",
       "      <th id=\"T_06674_level0_row15\" class=\"row_heading level0 row15\" >15</th>\n",
       "      <td id=\"T_06674_row15_col0\" class=\"data row15 col0\" >Fold Number</td>\n",
       "      <td id=\"T_06674_row15_col1\" class=\"data row15 col1\" >10</td>\n",
       "    </tr>\n",
       "    <tr>\n",
       "      <th id=\"T_06674_level0_row16\" class=\"row_heading level0 row16\" >16</th>\n",
       "      <td id=\"T_06674_row16_col0\" class=\"data row16 col0\" >CPU Jobs</td>\n",
       "      <td id=\"T_06674_row16_col1\" class=\"data row16 col1\" >-1</td>\n",
       "    </tr>\n",
       "    <tr>\n",
       "      <th id=\"T_06674_level0_row17\" class=\"row_heading level0 row17\" >17</th>\n",
       "      <td id=\"T_06674_row17_col0\" class=\"data row17 col0\" >Use GPU</td>\n",
       "      <td id=\"T_06674_row17_col1\" class=\"data row17 col1\" >False</td>\n",
       "    </tr>\n",
       "    <tr>\n",
       "      <th id=\"T_06674_level0_row18\" class=\"row_heading level0 row18\" >18</th>\n",
       "      <td id=\"T_06674_row18_col0\" class=\"data row18 col0\" >Log Experiment</td>\n",
       "      <td id=\"T_06674_row18_col1\" class=\"data row18 col1\" >False</td>\n",
       "    </tr>\n",
       "    <tr>\n",
       "      <th id=\"T_06674_level0_row19\" class=\"row_heading level0 row19\" >19</th>\n",
       "      <td id=\"T_06674_row19_col0\" class=\"data row19 col0\" >Experiment Name</td>\n",
       "      <td id=\"T_06674_row19_col1\" class=\"data row19 col1\" >clf-default-name</td>\n",
       "    </tr>\n",
       "    <tr>\n",
       "      <th id=\"T_06674_level0_row20\" class=\"row_heading level0 row20\" >20</th>\n",
       "      <td id=\"T_06674_row20_col0\" class=\"data row20 col0\" >USI</td>\n",
       "      <td id=\"T_06674_row20_col1\" class=\"data row20 col1\" >16d4</td>\n",
       "    </tr>\n",
       "  </tbody>\n",
       "</table>\n"
      ],
      "text/plain": [
       "<pandas.io.formats.style.Styler at 0x7fd214fccfd0>"
      ]
     },
     "metadata": {},
     "output_type": "display_data"
    }
   ],
   "source": [
    "clf = setup(data = x_train_temp, target = 'voted')"
   ]
  },
  {
   "cell_type": "code",
   "execution_count": 23,
   "metadata": {},
   "outputs": [
    {
     "data": {
      "text/html": [],
      "text/plain": [
       "<IPython.core.display.HTML object>"
      ]
     },
     "metadata": {},
     "output_type": "display_data"
    },
    {
     "data": {
      "text/html": [
       "<style type=\"text/css\">\n",
       "#T_97f1a th {\n",
       "  text-align: left;\n",
       "}\n",
       "#T_97f1a_row0_col0, #T_97f1a_row0_col3, #T_97f1a_row0_col4, #T_97f1a_row0_col5, #T_97f1a_row1_col0, #T_97f1a_row1_col1, #T_97f1a_row1_col2, #T_97f1a_row1_col3, #T_97f1a_row1_col5, #T_97f1a_row1_col6, #T_97f1a_row1_col7, #T_97f1a_row2_col0, #T_97f1a_row2_col1, #T_97f1a_row2_col2, #T_97f1a_row2_col3, #T_97f1a_row2_col4, #T_97f1a_row2_col5, #T_97f1a_row2_col6, #T_97f1a_row2_col7, #T_97f1a_row3_col0, #T_97f1a_row3_col1, #T_97f1a_row3_col2, #T_97f1a_row3_col3, #T_97f1a_row3_col4, #T_97f1a_row3_col5, #T_97f1a_row3_col6, #T_97f1a_row3_col7, #T_97f1a_row4_col0, #T_97f1a_row4_col1, #T_97f1a_row4_col2, #T_97f1a_row4_col3, #T_97f1a_row4_col4, #T_97f1a_row4_col5, #T_97f1a_row4_col6, #T_97f1a_row4_col7, #T_97f1a_row5_col0, #T_97f1a_row5_col1, #T_97f1a_row5_col2, #T_97f1a_row5_col3, #T_97f1a_row5_col4, #T_97f1a_row5_col5, #T_97f1a_row5_col6, #T_97f1a_row5_col7, #T_97f1a_row6_col0, #T_97f1a_row6_col1, #T_97f1a_row6_col2, #T_97f1a_row6_col3, #T_97f1a_row6_col4, #T_97f1a_row6_col5, #T_97f1a_row6_col6, #T_97f1a_row6_col7, #T_97f1a_row7_col0, #T_97f1a_row7_col1, #T_97f1a_row7_col2, #T_97f1a_row7_col3, #T_97f1a_row7_col4, #T_97f1a_row7_col5, #T_97f1a_row7_col6, #T_97f1a_row7_col7, #T_97f1a_row8_col0, #T_97f1a_row8_col1, #T_97f1a_row8_col2, #T_97f1a_row8_col3, #T_97f1a_row8_col4, #T_97f1a_row8_col5, #T_97f1a_row8_col6, #T_97f1a_row8_col7, #T_97f1a_row9_col0, #T_97f1a_row9_col1, #T_97f1a_row9_col2, #T_97f1a_row9_col3, #T_97f1a_row9_col4, #T_97f1a_row9_col5, #T_97f1a_row9_col6, #T_97f1a_row9_col7, #T_97f1a_row10_col0, #T_97f1a_row10_col1, #T_97f1a_row10_col2, #T_97f1a_row10_col3, #T_97f1a_row10_col4, #T_97f1a_row10_col5, #T_97f1a_row10_col6, #T_97f1a_row10_col7, #T_97f1a_row11_col0, #T_97f1a_row11_col1, #T_97f1a_row11_col2, #T_97f1a_row11_col4, #T_97f1a_row11_col6, #T_97f1a_row11_col7, #T_97f1a_row12_col0, #T_97f1a_row12_col1, #T_97f1a_row12_col2, #T_97f1a_row12_col3, #T_97f1a_row12_col4, #T_97f1a_row12_col5, #T_97f1a_row12_col6, #T_97f1a_row12_col7, #T_97f1a_row13_col0, #T_97f1a_row13_col1, #T_97f1a_row13_col2, #T_97f1a_row13_col3, #T_97f1a_row13_col4, #T_97f1a_row13_col5, #T_97f1a_row13_col6, #T_97f1a_row13_col7 {\n",
       "  text-align: left;\n",
       "}\n",
       "#T_97f1a_row0_col1, #T_97f1a_row0_col2, #T_97f1a_row0_col6, #T_97f1a_row0_col7, #T_97f1a_row1_col4, #T_97f1a_row11_col3, #T_97f1a_row11_col5 {\n",
       "  text-align: left;\n",
       "  background-color: yellow;\n",
       "}\n",
       "#T_97f1a_row0_col8, #T_97f1a_row1_col8, #T_97f1a_row2_col8, #T_97f1a_row3_col8, #T_97f1a_row4_col8, #T_97f1a_row5_col8, #T_97f1a_row6_col8, #T_97f1a_row7_col8, #T_97f1a_row8_col8, #T_97f1a_row9_col8, #T_97f1a_row10_col8, #T_97f1a_row12_col8, #T_97f1a_row13_col8 {\n",
       "  text-align: left;\n",
       "  background-color: lightgrey;\n",
       "}\n",
       "#T_97f1a_row11_col8 {\n",
       "  text-align: left;\n",
       "  background-color: yellow;\n",
       "  background-color: lightgrey;\n",
       "}\n",
       "</style>\n",
       "<table id=\"T_97f1a\">\n",
       "  <thead>\n",
       "    <tr>\n",
       "      <th class=\"blank level0\" >&nbsp;</th>\n",
       "      <th id=\"T_97f1a_level0_col0\" class=\"col_heading level0 col0\" >Model</th>\n",
       "      <th id=\"T_97f1a_level0_col1\" class=\"col_heading level0 col1\" >Accuracy</th>\n",
       "      <th id=\"T_97f1a_level0_col2\" class=\"col_heading level0 col2\" >AUC</th>\n",
       "      <th id=\"T_97f1a_level0_col3\" class=\"col_heading level0 col3\" >Recall</th>\n",
       "      <th id=\"T_97f1a_level0_col4\" class=\"col_heading level0 col4\" >Prec.</th>\n",
       "      <th id=\"T_97f1a_level0_col5\" class=\"col_heading level0 col5\" >F1</th>\n",
       "      <th id=\"T_97f1a_level0_col6\" class=\"col_heading level0 col6\" >Kappa</th>\n",
       "      <th id=\"T_97f1a_level0_col7\" class=\"col_heading level0 col7\" >MCC</th>\n",
       "      <th id=\"T_97f1a_level0_col8\" class=\"col_heading level0 col8\" >TT (Sec)</th>\n",
       "    </tr>\n",
       "  </thead>\n",
       "  <tbody>\n",
       "    <tr>\n",
       "      <th id=\"T_97f1a_level0_row0\" class=\"row_heading level0 row0\" >gbc</th>\n",
       "      <td id=\"T_97f1a_row0_col0\" class=\"data row0 col0\" >Gradient Boosting Classifier</td>\n",
       "      <td id=\"T_97f1a_row0_col1\" class=\"data row0 col1\" >0.6936</td>\n",
       "      <td id=\"T_97f1a_row0_col2\" class=\"data row0 col2\" >0.7625</td>\n",
       "      <td id=\"T_97f1a_row0_col3\" class=\"data row0 col3\" >0.6489</td>\n",
       "      <td id=\"T_97f1a_row0_col4\" class=\"data row0 col4\" >0.7563</td>\n",
       "      <td id=\"T_97f1a_row0_col5\" class=\"data row0 col5\" >0.6985</td>\n",
       "      <td id=\"T_97f1a_row0_col6\" class=\"data row0 col6\" >0.3908</td>\n",
       "      <td id=\"T_97f1a_row0_col7\" class=\"data row0 col7\" >0.3956</td>\n",
       "      <td id=\"T_97f1a_row0_col8\" class=\"data row0 col8\" >5.4830</td>\n",
       "    </tr>\n",
       "    <tr>\n",
       "      <th id=\"T_97f1a_level0_row1\" class=\"row_heading level0 row1\" >lightgbm</th>\n",
       "      <td id=\"T_97f1a_row1_col0\" class=\"data row1 col0\" >Light Gradient Boosting Machine</td>\n",
       "      <td id=\"T_97f1a_row1_col1\" class=\"data row1 col1\" >0.6918</td>\n",
       "      <td id=\"T_97f1a_row1_col2\" class=\"data row1 col2\" >0.7604</td>\n",
       "      <td id=\"T_97f1a_row1_col3\" class=\"data row1 col3\" >0.6405</td>\n",
       "      <td id=\"T_97f1a_row1_col4\" class=\"data row1 col4\" >0.7583</td>\n",
       "      <td id=\"T_97f1a_row1_col5\" class=\"data row1 col5\" >0.6944</td>\n",
       "      <td id=\"T_97f1a_row1_col6\" class=\"data row1 col6\" >0.3880</td>\n",
       "      <td id=\"T_97f1a_row1_col7\" class=\"data row1 col7\" >0.3936</td>\n",
       "      <td id=\"T_97f1a_row1_col8\" class=\"data row1 col8\" >0.8520</td>\n",
       "    </tr>\n",
       "    <tr>\n",
       "      <th id=\"T_97f1a_level0_row2\" class=\"row_heading level0 row2\" >ada</th>\n",
       "      <td id=\"T_97f1a_row2_col0\" class=\"data row2 col0\" >Ada Boost Classifier</td>\n",
       "      <td id=\"T_97f1a_row2_col1\" class=\"data row2 col1\" >0.6856</td>\n",
       "      <td id=\"T_97f1a_row2_col2\" class=\"data row2 col2\" >0.7535</td>\n",
       "      <td id=\"T_97f1a_row2_col3\" class=\"data row2 col3\" >0.6509</td>\n",
       "      <td id=\"T_97f1a_row2_col4\" class=\"data row2 col4\" >0.7425</td>\n",
       "      <td id=\"T_97f1a_row2_col5\" class=\"data row2 col5\" >0.6937</td>\n",
       "      <td id=\"T_97f1a_row2_col6\" class=\"data row2 col6\" >0.3737</td>\n",
       "      <td id=\"T_97f1a_row2_col7\" class=\"data row2 col7\" >0.3771</td>\n",
       "      <td id=\"T_97f1a_row2_col8\" class=\"data row2 col8\" >1.2530</td>\n",
       "    </tr>\n",
       "    <tr>\n",
       "      <th id=\"T_97f1a_level0_row3\" class=\"row_heading level0 row3\" >lda</th>\n",
       "      <td id=\"T_97f1a_row3_col0\" class=\"data row3 col0\" >Linear Discriminant Analysis</td>\n",
       "      <td id=\"T_97f1a_row3_col1\" class=\"data row3 col1\" >0.6701</td>\n",
       "      <td id=\"T_97f1a_row3_col2\" class=\"data row3 col2\" >0.7405</td>\n",
       "      <td id=\"T_97f1a_row3_col3\" class=\"data row3 col3\" >0.7253</td>\n",
       "      <td id=\"T_97f1a_row3_col4\" class=\"data row3 col4\" >0.6882</td>\n",
       "      <td id=\"T_97f1a_row3_col5\" class=\"data row3 col5\" >0.7062</td>\n",
       "      <td id=\"T_97f1a_row3_col6\" class=\"data row3 col6\" >0.3306</td>\n",
       "      <td id=\"T_97f1a_row3_col7\" class=\"data row3 col7\" >0.3313</td>\n",
       "      <td id=\"T_97f1a_row3_col8\" class=\"data row3 col8\" >0.3370</td>\n",
       "    </tr>\n",
       "    <tr>\n",
       "      <th id=\"T_97f1a_level0_row4\" class=\"row_heading level0 row4\" >lr</th>\n",
       "      <td id=\"T_97f1a_row4_col0\" class=\"data row4 col0\" >Logistic Regression</td>\n",
       "      <td id=\"T_97f1a_row4_col1\" class=\"data row4 col1\" >0.6652</td>\n",
       "      <td id=\"T_97f1a_row4_col2\" class=\"data row4 col2\" >0.7366</td>\n",
       "      <td id=\"T_97f1a_row4_col3\" class=\"data row4 col3\" >0.7381</td>\n",
       "      <td id=\"T_97f1a_row4_col4\" class=\"data row4 col4\" >0.6781</td>\n",
       "      <td id=\"T_97f1a_row4_col5\" class=\"data row4 col5\" >0.7068</td>\n",
       "      <td id=\"T_97f1a_row4_col6\" class=\"data row4 col6\" >0.3183</td>\n",
       "      <td id=\"T_97f1a_row4_col7\" class=\"data row4 col7\" >0.3199</td>\n",
       "      <td id=\"T_97f1a_row4_col8\" class=\"data row4 col8\" >1.0300</td>\n",
       "    </tr>\n",
       "    <tr>\n",
       "      <th id=\"T_97f1a_level0_row5\" class=\"row_heading level0 row5\" >rf</th>\n",
       "      <td id=\"T_97f1a_row5_col0\" class=\"data row5 col0\" >Random Forest Classifier</td>\n",
       "      <td id=\"T_97f1a_row5_col1\" class=\"data row5 col1\" >0.6715</td>\n",
       "      <td id=\"T_97f1a_row5_col2\" class=\"data row5 col2\" >0.7360</td>\n",
       "      <td id=\"T_97f1a_row5_col3\" class=\"data row5 col3\" >0.6598</td>\n",
       "      <td id=\"T_97f1a_row5_col4\" class=\"data row5 col4\" >0.7170</td>\n",
       "      <td id=\"T_97f1a_row5_col5\" class=\"data row5 col5\" >0.6872</td>\n",
       "      <td id=\"T_97f1a_row5_col6\" class=\"data row5 col6\" >0.3427</td>\n",
       "      <td id=\"T_97f1a_row5_col7\" class=\"data row5 col7\" >0.3440</td>\n",
       "      <td id=\"T_97f1a_row5_col8\" class=\"data row5 col8\" >0.5630</td>\n",
       "    </tr>\n",
       "    <tr>\n",
       "      <th id=\"T_97f1a_level0_row6\" class=\"row_heading level0 row6\" >et</th>\n",
       "      <td id=\"T_97f1a_row6_col0\" class=\"data row6 col0\" >Extra Trees Classifier</td>\n",
       "      <td id=\"T_97f1a_row6_col1\" class=\"data row6 col1\" >0.6671</td>\n",
       "      <td id=\"T_97f1a_row6_col2\" class=\"data row6 col2\" >0.7321</td>\n",
       "      <td id=\"T_97f1a_row6_col3\" class=\"data row6 col3\" >0.6974</td>\n",
       "      <td id=\"T_97f1a_row6_col4\" class=\"data row6 col4\" >0.6950</td>\n",
       "      <td id=\"T_97f1a_row6_col5\" class=\"data row6 col5\" >0.6961</td>\n",
       "      <td id=\"T_97f1a_row6_col6\" class=\"data row6 col6\" >0.3281</td>\n",
       "      <td id=\"T_97f1a_row6_col7\" class=\"data row6 col7\" >0.3283</td>\n",
       "      <td id=\"T_97f1a_row6_col8\" class=\"data row6 col8\" >0.9710</td>\n",
       "    </tr>\n",
       "    <tr>\n",
       "      <th id=\"T_97f1a_level0_row7\" class=\"row_heading level0 row7\" >nb</th>\n",
       "      <td id=\"T_97f1a_row7_col0\" class=\"data row7 col0\" >Naive Bayes</td>\n",
       "      <td id=\"T_97f1a_row7_col1\" class=\"data row7 col1\" >0.4652</td>\n",
       "      <td id=\"T_97f1a_row7_col2\" class=\"data row7 col2\" >0.6330</td>\n",
       "      <td id=\"T_97f1a_row7_col3\" class=\"data row7 col3\" >0.0712</td>\n",
       "      <td id=\"T_97f1a_row7_col4\" class=\"data row7 col4\" >0.0591</td>\n",
       "      <td id=\"T_97f1a_row7_col5\" class=\"data row7 col5\" >0.0646</td>\n",
       "      <td id=\"T_97f1a_row7_col6\" class=\"data row7 col6\" >0.0120</td>\n",
       "      <td id=\"T_97f1a_row7_col7\" class=\"data row7 col7\" >0.0123</td>\n",
       "      <td id=\"T_97f1a_row7_col8\" class=\"data row7 col8\" >0.1800</td>\n",
       "    </tr>\n",
       "    <tr>\n",
       "      <th id=\"T_97f1a_level0_row8\" class=\"row_heading level0 row8\" >qda</th>\n",
       "      <td id=\"T_97f1a_row8_col0\" class=\"data row8 col0\" >Quadratic Discriminant Analysis</td>\n",
       "      <td id=\"T_97f1a_row8_col1\" class=\"data row8 col1\" >0.4872</td>\n",
       "      <td id=\"T_97f1a_row8_col2\" class=\"data row8 col2\" >0.6191</td>\n",
       "      <td id=\"T_97f1a_row8_col3\" class=\"data row8 col3\" >0.1445</td>\n",
       "      <td id=\"T_97f1a_row8_col4\" class=\"data row8 col4\" >0.6926</td>\n",
       "      <td id=\"T_97f1a_row8_col5\" class=\"data row8 col5\" >0.1931</td>\n",
       "      <td id=\"T_97f1a_row8_col6\" class=\"data row8 col6\" >0.0424</td>\n",
       "      <td id=\"T_97f1a_row8_col7\" class=\"data row8 col7\" >0.0837</td>\n",
       "      <td id=\"T_97f1a_row8_col8\" class=\"data row8 col8\" >0.3400</td>\n",
       "    </tr>\n",
       "    <tr>\n",
       "      <th id=\"T_97f1a_level0_row9\" class=\"row_heading level0 row9\" >dt</th>\n",
       "      <td id=\"T_97f1a_row9_col0\" class=\"data row9 col0\" >Decision Tree Classifier</td>\n",
       "      <td id=\"T_97f1a_row9_col1\" class=\"data row9 col1\" >0.6016</td>\n",
       "      <td id=\"T_97f1a_row9_col2\" class=\"data row9 col2\" >0.5978</td>\n",
       "      <td id=\"T_97f1a_row9_col3\" class=\"data row9 col3\" >0.6389</td>\n",
       "      <td id=\"T_97f1a_row9_col4\" class=\"data row9 col4\" >0.6349</td>\n",
       "      <td id=\"T_97f1a_row9_col5\" class=\"data row9 col5\" >0.6368</td>\n",
       "      <td id=\"T_97f1a_row9_col6\" class=\"data row9 col6\" >0.1957</td>\n",
       "      <td id=\"T_97f1a_row9_col7\" class=\"data row9 col7\" >0.1957</td>\n",
       "      <td id=\"T_97f1a_row9_col8\" class=\"data row9 col8\" >0.4620</td>\n",
       "    </tr>\n",
       "    <tr>\n",
       "      <th id=\"T_97f1a_level0_row10\" class=\"row_heading level0 row10\" >knn</th>\n",
       "      <td id=\"T_97f1a_row10_col0\" class=\"data row10 col0\" >K Neighbors Classifier</td>\n",
       "      <td id=\"T_97f1a_row10_col1\" class=\"data row10 col1\" >0.5775</td>\n",
       "      <td id=\"T_97f1a_row10_col2\" class=\"data row10 col2\" >0.5976</td>\n",
       "      <td id=\"T_97f1a_row10_col3\" class=\"data row10 col3\" >0.6403</td>\n",
       "      <td id=\"T_97f1a_row10_col4\" class=\"data row10 col4\" >0.6080</td>\n",
       "      <td id=\"T_97f1a_row10_col5\" class=\"data row10 col5\" >0.6237</td>\n",
       "      <td id=\"T_97f1a_row10_col6\" class=\"data row10 col6\" >0.1427</td>\n",
       "      <td id=\"T_97f1a_row10_col7\" class=\"data row10 col7\" >0.1430</td>\n",
       "      <td id=\"T_97f1a_row10_col8\" class=\"data row10 col8\" >0.4470</td>\n",
       "    </tr>\n",
       "    <tr>\n",
       "      <th id=\"T_97f1a_level0_row11\" class=\"row_heading level0 row11\" >dummy</th>\n",
       "      <td id=\"T_97f1a_row11_col0\" class=\"data row11 col0\" >Dummy Classifier</td>\n",
       "      <td id=\"T_97f1a_row11_col1\" class=\"data row11 col1\" >0.5468</td>\n",
       "      <td id=\"T_97f1a_row11_col2\" class=\"data row11 col2\" >0.5000</td>\n",
       "      <td id=\"T_97f1a_row11_col3\" class=\"data row11 col3\" >1.0000</td>\n",
       "      <td id=\"T_97f1a_row11_col4\" class=\"data row11 col4\" >0.5468</td>\n",
       "      <td id=\"T_97f1a_row11_col5\" class=\"data row11 col5\" >0.7070</td>\n",
       "      <td id=\"T_97f1a_row11_col6\" class=\"data row11 col6\" >0.0000</td>\n",
       "      <td id=\"T_97f1a_row11_col7\" class=\"data row11 col7\" >0.0000</td>\n",
       "      <td id=\"T_97f1a_row11_col8\" class=\"data row11 col8\" >0.0670</td>\n",
       "    </tr>\n",
       "    <tr>\n",
       "      <th id=\"T_97f1a_level0_row12\" class=\"row_heading level0 row12\" >svm</th>\n",
       "      <td id=\"T_97f1a_row12_col0\" class=\"data row12 col0\" >SVM - Linear Kernel</td>\n",
       "      <td id=\"T_97f1a_row12_col1\" class=\"data row12 col1\" >0.5427</td>\n",
       "      <td id=\"T_97f1a_row12_col2\" class=\"data row12 col2\" >0.0000</td>\n",
       "      <td id=\"T_97f1a_row12_col3\" class=\"data row12 col3\" >0.8564</td>\n",
       "      <td id=\"T_97f1a_row12_col4\" class=\"data row12 col4\" >0.5547</td>\n",
       "      <td id=\"T_97f1a_row12_col5\" class=\"data row12 col5\" >0.6674</td>\n",
       "      <td id=\"T_97f1a_row12_col6\" class=\"data row12 col6\" >0.0208</td>\n",
       "      <td id=\"T_97f1a_row12_col7\" class=\"data row12 col7\" >0.0181</td>\n",
       "      <td id=\"T_97f1a_row12_col8\" class=\"data row12 col8\" >1.5770</td>\n",
       "    </tr>\n",
       "    <tr>\n",
       "      <th id=\"T_97f1a_level0_row13\" class=\"row_heading level0 row13\" >ridge</th>\n",
       "      <td id=\"T_97f1a_row13_col0\" class=\"data row13 col0\" >Ridge Classifier</td>\n",
       "      <td id=\"T_97f1a_row13_col1\" class=\"data row13 col1\" >0.6700</td>\n",
       "      <td id=\"T_97f1a_row13_col2\" class=\"data row13 col2\" >0.0000</td>\n",
       "      <td id=\"T_97f1a_row13_col3\" class=\"data row13 col3\" >0.7254</td>\n",
       "      <td id=\"T_97f1a_row13_col4\" class=\"data row13 col4\" >0.6881</td>\n",
       "      <td id=\"T_97f1a_row13_col5\" class=\"data row13 col5\" >0.7062</td>\n",
       "      <td id=\"T_97f1a_row13_col6\" class=\"data row13 col6\" >0.3305</td>\n",
       "      <td id=\"T_97f1a_row13_col7\" class=\"data row13 col7\" >0.3311</td>\n",
       "      <td id=\"T_97f1a_row13_col8\" class=\"data row13 col8\" >0.1700</td>\n",
       "    </tr>\n",
       "  </tbody>\n",
       "</table>\n"
      ],
      "text/plain": [
       "<pandas.io.formats.style.Styler at 0x7fd367f99f70>"
      ]
     },
     "metadata": {},
     "output_type": "display_data"
    },
    {
     "data": {
      "application/vnd.jupyter.widget-view+json": {
       "model_id": "d999ed41851b4f3a81e6e0ca79526b69",
       "version_major": 2,
       "version_minor": 0
      },
      "text/plain": [
       "Processing:   0%|          | 0/63 [00:00<?, ?it/s]"
      ]
     },
     "metadata": {},
     "output_type": "display_data"
    }
   ],
   "source": [
    "best_3 = compare_models(sort = 'AUC', n_select = 3)"
   ]
  },
  {
   "cell_type": "code",
   "execution_count": 24,
   "metadata": {},
   "outputs": [
    {
     "data": {
      "text/html": [],
      "text/plain": [
       "<IPython.core.display.HTML object>"
      ]
     },
     "metadata": {},
     "output_type": "display_data"
    },
    {
     "data": {
      "text/html": [
       "<style type=\"text/css\">\n",
       "#T_2c3a5_row5_col0, #T_2c3a5_row5_col1, #T_2c3a5_row5_col2, #T_2c3a5_row5_col3, #T_2c3a5_row5_col4, #T_2c3a5_row5_col5, #T_2c3a5_row5_col6 {\n",
       "  background: yellow;\n",
       "}\n",
       "</style>\n",
       "<table id=\"T_2c3a5\">\n",
       "  <thead>\n",
       "    <tr>\n",
       "      <th class=\"blank level0\" >&nbsp;</th>\n",
       "      <th id=\"T_2c3a5_level0_col0\" class=\"col_heading level0 col0\" >Accuracy</th>\n",
       "      <th id=\"T_2c3a5_level0_col1\" class=\"col_heading level0 col1\" >AUC</th>\n",
       "      <th id=\"T_2c3a5_level0_col2\" class=\"col_heading level0 col2\" >Recall</th>\n",
       "      <th id=\"T_2c3a5_level0_col3\" class=\"col_heading level0 col3\" >Prec.</th>\n",
       "      <th id=\"T_2c3a5_level0_col4\" class=\"col_heading level0 col4\" >F1</th>\n",
       "      <th id=\"T_2c3a5_level0_col5\" class=\"col_heading level0 col5\" >Kappa</th>\n",
       "      <th id=\"T_2c3a5_level0_col6\" class=\"col_heading level0 col6\" >MCC</th>\n",
       "    </tr>\n",
       "    <tr>\n",
       "      <th class=\"index_name level0\" >Fold</th>\n",
       "      <th class=\"blank col0\" >&nbsp;</th>\n",
       "      <th class=\"blank col1\" >&nbsp;</th>\n",
       "      <th class=\"blank col2\" >&nbsp;</th>\n",
       "      <th class=\"blank col3\" >&nbsp;</th>\n",
       "      <th class=\"blank col4\" >&nbsp;</th>\n",
       "      <th class=\"blank col5\" >&nbsp;</th>\n",
       "      <th class=\"blank col6\" >&nbsp;</th>\n",
       "    </tr>\n",
       "  </thead>\n",
       "  <tbody>\n",
       "    <tr>\n",
       "      <th id=\"T_2c3a5_level0_row0\" class=\"row_heading level0 row0\" >0</th>\n",
       "      <td id=\"T_2c3a5_row0_col0\" class=\"data row0 col0\" >0.6921</td>\n",
       "      <td id=\"T_2c3a5_row0_col1\" class=\"data row0 col1\" >0.7599</td>\n",
       "      <td id=\"T_2c3a5_row0_col2\" class=\"data row0 col2\" >0.6354</td>\n",
       "      <td id=\"T_2c3a5_row0_col3\" class=\"data row0 col3\" >0.7620</td>\n",
       "      <td id=\"T_2c3a5_row0_col4\" class=\"data row0 col4\" >0.6929</td>\n",
       "      <td id=\"T_2c3a5_row0_col5\" class=\"data row0 col5\" >0.3892</td>\n",
       "      <td id=\"T_2c3a5_row0_col6\" class=\"data row0 col6\" >0.3957</td>\n",
       "    </tr>\n",
       "    <tr>\n",
       "      <th id=\"T_2c3a5_level0_row1\" class=\"row_heading level0 row1\" >1</th>\n",
       "      <td id=\"T_2c3a5_row1_col0\" class=\"data row1 col0\" >0.6841</td>\n",
       "      <td id=\"T_2c3a5_row1_col1\" class=\"data row1 col1\" >0.7577</td>\n",
       "      <td id=\"T_2c3a5_row1_col2\" class=\"data row1 col2\" >0.6440</td>\n",
       "      <td id=\"T_2c3a5_row1_col3\" class=\"data row1 col3\" >0.7439</td>\n",
       "      <td id=\"T_2c3a5_row1_col4\" class=\"data row1 col4\" >0.6903</td>\n",
       "      <td id=\"T_2c3a5_row1_col5\" class=\"data row1 col5\" >0.3713</td>\n",
       "      <td id=\"T_2c3a5_row1_col6\" class=\"data row1 col6\" >0.3753</td>\n",
       "    </tr>\n",
       "    <tr>\n",
       "      <th id=\"T_2c3a5_level0_row2\" class=\"row_heading level0 row2\" >2</th>\n",
       "      <td id=\"T_2c3a5_row2_col0\" class=\"data row2 col0\" >0.6981</td>\n",
       "      <td id=\"T_2c3a5_row2_col1\" class=\"data row2 col1\" >0.7641</td>\n",
       "      <td id=\"T_2c3a5_row2_col2\" class=\"data row2 col2\" >0.6520</td>\n",
       "      <td id=\"T_2c3a5_row2_col3\" class=\"data row2 col3\" >0.7617</td>\n",
       "      <td id=\"T_2c3a5_row2_col4\" class=\"data row2 col4\" >0.7026</td>\n",
       "      <td id=\"T_2c3a5_row2_col5\" class=\"data row2 col5\" >0.3999</td>\n",
       "      <td id=\"T_2c3a5_row2_col6\" class=\"data row2 col6\" >0.4049</td>\n",
       "    </tr>\n",
       "    <tr>\n",
       "      <th id=\"T_2c3a5_level0_row3\" class=\"row_heading level0 row3\" >3</th>\n",
       "      <td id=\"T_2c3a5_row3_col0\" class=\"data row3 col0\" >0.6991</td>\n",
       "      <td id=\"T_2c3a5_row3_col1\" class=\"data row3 col1\" >0.7699</td>\n",
       "      <td id=\"T_2c3a5_row3_col2\" class=\"data row3 col2\" >0.6531</td>\n",
       "      <td id=\"T_2c3a5_row3_col3\" class=\"data row3 col3\" >0.7625</td>\n",
       "      <td id=\"T_2c3a5_row3_col4\" class=\"data row3 col4\" >0.7036</td>\n",
       "      <td id=\"T_2c3a5_row3_col5\" class=\"data row3 col5\" >0.4017</td>\n",
       "      <td id=\"T_2c3a5_row3_col6\" class=\"data row3 col6\" >0.4067</td>\n",
       "    </tr>\n",
       "    <tr>\n",
       "      <th id=\"T_2c3a5_level0_row4\" class=\"row_heading level0 row4\" >4</th>\n",
       "      <td id=\"T_2c3a5_row4_col0\" class=\"data row4 col0\" >0.6967</td>\n",
       "      <td id=\"T_2c3a5_row4_col1\" class=\"data row4 col1\" >0.7616</td>\n",
       "      <td id=\"T_2c3a5_row4_col2\" class=\"data row4 col2\" >0.6399</td>\n",
       "      <td id=\"T_2c3a5_row4_col3\" class=\"data row4 col3\" >0.7669</td>\n",
       "      <td id=\"T_2c3a5_row4_col4\" class=\"data row4 col4\" >0.6976</td>\n",
       "      <td id=\"T_2c3a5_row4_col5\" class=\"data row4 col5\" >0.3984</td>\n",
       "      <td id=\"T_2c3a5_row4_col6\" class=\"data row4 col6\" >0.4050</td>\n",
       "    </tr>\n",
       "    <tr>\n",
       "      <th id=\"T_2c3a5_level0_row5\" class=\"row_heading level0 row5\" >Mean</th>\n",
       "      <td id=\"T_2c3a5_row5_col0\" class=\"data row5 col0\" >0.6940</td>\n",
       "      <td id=\"T_2c3a5_row5_col1\" class=\"data row5 col1\" >0.7626</td>\n",
       "      <td id=\"T_2c3a5_row5_col2\" class=\"data row5 col2\" >0.6449</td>\n",
       "      <td id=\"T_2c3a5_row5_col3\" class=\"data row5 col3\" >0.7594</td>\n",
       "      <td id=\"T_2c3a5_row5_col4\" class=\"data row5 col4\" >0.6974</td>\n",
       "      <td id=\"T_2c3a5_row5_col5\" class=\"data row5 col5\" >0.3921</td>\n",
       "      <td id=\"T_2c3a5_row5_col6\" class=\"data row5 col6\" >0.3975</td>\n",
       "    </tr>\n",
       "    <tr>\n",
       "      <th id=\"T_2c3a5_level0_row6\" class=\"row_heading level0 row6\" >Std</th>\n",
       "      <td id=\"T_2c3a5_row6_col0\" class=\"data row6 col0\" >0.0055</td>\n",
       "      <td id=\"T_2c3a5_row6_col1\" class=\"data row6 col1\" >0.0042</td>\n",
       "      <td id=\"T_2c3a5_row6_col2\" class=\"data row6 col2\" >0.0068</td>\n",
       "      <td id=\"T_2c3a5_row6_col3\" class=\"data row6 col3\" >0.0080</td>\n",
       "      <td id=\"T_2c3a5_row6_col4\" class=\"data row6 col4\" >0.0052</td>\n",
       "      <td id=\"T_2c3a5_row6_col5\" class=\"data row6 col5\" >0.0113</td>\n",
       "      <td id=\"T_2c3a5_row6_col6\" class=\"data row6 col6\" >0.0118</td>\n",
       "    </tr>\n",
       "  </tbody>\n",
       "</table>\n"
      ],
      "text/plain": [
       "<pandas.io.formats.style.Styler at 0x7fd21526c850>"
      ]
     },
     "metadata": {},
     "output_type": "display_data"
    },
    {
     "data": {
      "application/vnd.jupyter.widget-view+json": {
       "model_id": "0097e811b4b44835a2657dede4865d88",
       "version_major": 2,
       "version_minor": 0
      },
      "text/plain": [
       "Processing:   0%|          | 0/6 [00:00<?, ?it/s]"
      ]
     },
     "metadata": {},
     "output_type": "display_data"
    }
   ],
   "source": [
    "blended = blend_models(estimator_list = best_3, fold = 5, method = 'soft')"
   ]
  },
  {
   "cell_type": "code",
   "execution_count": 25,
   "metadata": {},
   "outputs": [
    {
     "data": {
      "text/html": [
       "<style type=\"text/css\">\n",
       "</style>\n",
       "<table id=\"T_748cb\">\n",
       "  <thead>\n",
       "    <tr>\n",
       "      <th class=\"blank level0\" >&nbsp;</th>\n",
       "      <th id=\"T_748cb_level0_col0\" class=\"col_heading level0 col0\" >Model</th>\n",
       "      <th id=\"T_748cb_level0_col1\" class=\"col_heading level0 col1\" >Accuracy</th>\n",
       "      <th id=\"T_748cb_level0_col2\" class=\"col_heading level0 col2\" >AUC</th>\n",
       "      <th id=\"T_748cb_level0_col3\" class=\"col_heading level0 col3\" >Recall</th>\n",
       "      <th id=\"T_748cb_level0_col4\" class=\"col_heading level0 col4\" >Prec.</th>\n",
       "      <th id=\"T_748cb_level0_col5\" class=\"col_heading level0 col5\" >F1</th>\n",
       "      <th id=\"T_748cb_level0_col6\" class=\"col_heading level0 col6\" >Kappa</th>\n",
       "      <th id=\"T_748cb_level0_col7\" class=\"col_heading level0 col7\" >MCC</th>\n",
       "    </tr>\n",
       "  </thead>\n",
       "  <tbody>\n",
       "    <tr>\n",
       "      <th id=\"T_748cb_level0_row0\" class=\"row_heading level0 row0\" >0</th>\n",
       "      <td id=\"T_748cb_row0_col0\" class=\"data row0 col0\" >Voting Classifier</td>\n",
       "      <td id=\"T_748cb_row0_col1\" class=\"data row0 col1\" >0.6958</td>\n",
       "      <td id=\"T_748cb_row0_col2\" class=\"data row0 col2\" >0.7634</td>\n",
       "      <td id=\"T_748cb_row0_col3\" class=\"data row0 col3\" >0</td>\n",
       "      <td id=\"T_748cb_row0_col4\" class=\"data row0 col4\" >0</td>\n",
       "      <td id=\"T_748cb_row0_col5\" class=\"data row0 col5\" >0</td>\n",
       "      <td id=\"T_748cb_row0_col6\" class=\"data row0 col6\" >0.3954</td>\n",
       "      <td id=\"T_748cb_row0_col7\" class=\"data row0 col7\" >0.4006</td>\n",
       "    </tr>\n",
       "  </tbody>\n",
       "</table>\n"
      ],
      "text/plain": [
       "<pandas.io.formats.style.Styler at 0x7fd214f8b190>"
      ]
     },
     "metadata": {},
     "output_type": "display_data"
    }
   ],
   "source": [
    "pred_holdout = predict_model(blended)\n",
    "final_model = finalize_model(blended)"
   ]
  },
  {
   "cell_type": "code",
   "execution_count": 26,
   "metadata": {},
   "outputs": [
    {
     "data": {
      "text/html": [],
      "text/plain": [
       "<IPython.core.display.HTML object>"
      ]
     },
     "metadata": {},
     "output_type": "display_data"
    }
   ],
   "source": [
    "predictions = predict_model(final_model, data = test)"
   ]
  },
  {
   "cell_type": "code",
   "execution_count": 27,
   "metadata": {},
   "outputs": [
    {
     "data": {
      "text/html": [
       "<div>\n",
       "<style scoped>\n",
       "    .dataframe tbody tr th:only-of-type {\n",
       "        vertical-align: middle;\n",
       "    }\n",
       "\n",
       "    .dataframe tbody tr th {\n",
       "        vertical-align: top;\n",
       "    }\n",
       "\n",
       "    .dataframe thead th {\n",
       "        text-align: right;\n",
       "    }\n",
       "</style>\n",
       "<table border=\"1\" class=\"dataframe\">\n",
       "  <thead>\n",
       "    <tr style=\"text-align: right;\">\n",
       "      <th></th>\n",
       "      <th>age_group</th>\n",
       "      <th>education</th>\n",
       "      <th>engnat</th>\n",
       "      <th>familysize</th>\n",
       "      <th>gender</th>\n",
       "      <th>married</th>\n",
       "      <th>race</th>\n",
       "      <th>religion</th>\n",
       "      <th>urban</th>\n",
       "      <th>wf_01</th>\n",
       "      <th>...</th>\n",
       "      <th>QrA_dv_QsA</th>\n",
       "      <th>QrA_dv_QtA</th>\n",
       "      <th>QsA_dv_QtA</th>\n",
       "      <th>Ex</th>\n",
       "      <th>Ag</th>\n",
       "      <th>Con</th>\n",
       "      <th>Es</th>\n",
       "      <th>Op</th>\n",
       "      <th>Label</th>\n",
       "      <th>Score</th>\n",
       "    </tr>\n",
       "  </thead>\n",
       "  <tbody>\n",
       "    <tr>\n",
       "      <th>0</th>\n",
       "      <td>1.0</td>\n",
       "      <td>2.0</td>\n",
       "      <td>2.0</td>\n",
       "      <td>3.0</td>\n",
       "      <td>1.0</td>\n",
       "      <td>1.0</td>\n",
       "      <td>6.0</td>\n",
       "      <td>6.0</td>\n",
       "      <td>2.0</td>\n",
       "      <td>0.0</td>\n",
       "      <td>...</td>\n",
       "      <td>2.000000</td>\n",
       "      <td>1.000000</td>\n",
       "      <td>0.500000</td>\n",
       "      <td>2.0</td>\n",
       "      <td>1.5</td>\n",
       "      <td>2.0</td>\n",
       "      <td>4.0</td>\n",
       "      <td>2.5</td>\n",
       "      <td>2</td>\n",
       "      <td>0.6336</td>\n",
       "    </tr>\n",
       "    <tr>\n",
       "      <th>1</th>\n",
       "      <td>1.0</td>\n",
       "      <td>2.0</td>\n",
       "      <td>2.0</td>\n",
       "      <td>2.0</td>\n",
       "      <td>1.0</td>\n",
       "      <td>1.0</td>\n",
       "      <td>5.0</td>\n",
       "      <td>3.0</td>\n",
       "      <td>3.0</td>\n",
       "      <td>0.0</td>\n",
       "      <td>...</td>\n",
       "      <td>0.333333</td>\n",
       "      <td>0.250000</td>\n",
       "      <td>0.750000</td>\n",
       "      <td>7.0</td>\n",
       "      <td>7.0</td>\n",
       "      <td>7.0</td>\n",
       "      <td>7.0</td>\n",
       "      <td>7.0</td>\n",
       "      <td>2</td>\n",
       "      <td>0.7556</td>\n",
       "    </tr>\n",
       "    <tr>\n",
       "      <th>2</th>\n",
       "      <td>3.0</td>\n",
       "      <td>3.0</td>\n",
       "      <td>2.0</td>\n",
       "      <td>7.0</td>\n",
       "      <td>1.0</td>\n",
       "      <td>2.0</td>\n",
       "      <td>5.0</td>\n",
       "      <td>5.0</td>\n",
       "      <td>1.0</td>\n",
       "      <td>0.0</td>\n",
       "      <td>...</td>\n",
       "      <td>0.666667</td>\n",
       "      <td>0.400000</td>\n",
       "      <td>0.600000</td>\n",
       "      <td>3.5</td>\n",
       "      <td>2.0</td>\n",
       "      <td>2.5</td>\n",
       "      <td>2.0</td>\n",
       "      <td>3.5</td>\n",
       "      <td>1</td>\n",
       "      <td>0.5757</td>\n",
       "    </tr>\n",
       "    <tr>\n",
       "      <th>3</th>\n",
       "      <td>6.0</td>\n",
       "      <td>4.0</td>\n",
       "      <td>1.0</td>\n",
       "      <td>4.0</td>\n",
       "      <td>1.0</td>\n",
       "      <td>2.0</td>\n",
       "      <td>6.0</td>\n",
       "      <td>3.0</td>\n",
       "      <td>2.0</td>\n",
       "      <td>0.0</td>\n",
       "      <td>...</td>\n",
       "      <td>1.250000</td>\n",
       "      <td>5.000000</td>\n",
       "      <td>4.000000</td>\n",
       "      <td>3.0</td>\n",
       "      <td>2.5</td>\n",
       "      <td>3.0</td>\n",
       "      <td>3.5</td>\n",
       "      <td>3.0</td>\n",
       "      <td>1</td>\n",
       "      <td>0.6864</td>\n",
       "    </tr>\n",
       "    <tr>\n",
       "      <th>4</th>\n",
       "      <td>1.0</td>\n",
       "      <td>2.0</td>\n",
       "      <td>1.0</td>\n",
       "      <td>3.0</td>\n",
       "      <td>1.0</td>\n",
       "      <td>1.0</td>\n",
       "      <td>6.0</td>\n",
       "      <td>0.0</td>\n",
       "      <td>2.0</td>\n",
       "      <td>0.0</td>\n",
       "      <td>...</td>\n",
       "      <td>0.500000</td>\n",
       "      <td>0.666667</td>\n",
       "      <td>1.333333</td>\n",
       "      <td>3.0</td>\n",
       "      <td>3.0</td>\n",
       "      <td>2.0</td>\n",
       "      <td>3.0</td>\n",
       "      <td>3.0</td>\n",
       "      <td>2</td>\n",
       "      <td>0.6665</td>\n",
       "    </tr>\n",
       "    <tr>\n",
       "      <th>...</th>\n",
       "      <td>...</td>\n",
       "      <td>...</td>\n",
       "      <td>...</td>\n",
       "      <td>...</td>\n",
       "      <td>...</td>\n",
       "      <td>...</td>\n",
       "      <td>...</td>\n",
       "      <td>...</td>\n",
       "      <td>...</td>\n",
       "      <td>...</td>\n",
       "      <td>...</td>\n",
       "      <td>...</td>\n",
       "      <td>...</td>\n",
       "      <td>...</td>\n",
       "      <td>...</td>\n",
       "      <td>...</td>\n",
       "      <td>...</td>\n",
       "      <td>...</td>\n",
       "      <td>...</td>\n",
       "      <td>...</td>\n",
       "      <td>...</td>\n",
       "    </tr>\n",
       "    <tr>\n",
       "      <th>11378</th>\n",
       "      <td>2.0</td>\n",
       "      <td>3.0</td>\n",
       "      <td>2.0</td>\n",
       "      <td>3.0</td>\n",
       "      <td>0.0</td>\n",
       "      <td>1.0</td>\n",
       "      <td>5.0</td>\n",
       "      <td>3.0</td>\n",
       "      <td>0.0</td>\n",
       "      <td>0.0</td>\n",
       "      <td>...</td>\n",
       "      <td>2.000000</td>\n",
       "      <td>1.000000</td>\n",
       "      <td>0.500000</td>\n",
       "      <td>2.5</td>\n",
       "      <td>0.5</td>\n",
       "      <td>0.0</td>\n",
       "      <td>3.5</td>\n",
       "      <td>2.5</td>\n",
       "      <td>1</td>\n",
       "      <td>0.5462</td>\n",
       "    </tr>\n",
       "    <tr>\n",
       "      <th>11379</th>\n",
       "      <td>1.0</td>\n",
       "      <td>2.0</td>\n",
       "      <td>2.0</td>\n",
       "      <td>1.0</td>\n",
       "      <td>0.0</td>\n",
       "      <td>1.0</td>\n",
       "      <td>1.0</td>\n",
       "      <td>0.0</td>\n",
       "      <td>2.0</td>\n",
       "      <td>0.0</td>\n",
       "      <td>...</td>\n",
       "      <td>1.000000</td>\n",
       "      <td>1.250000</td>\n",
       "      <td>1.250000</td>\n",
       "      <td>4.0</td>\n",
       "      <td>0.0</td>\n",
       "      <td>1.0</td>\n",
       "      <td>3.0</td>\n",
       "      <td>2.0</td>\n",
       "      <td>2</td>\n",
       "      <td>0.7327</td>\n",
       "    </tr>\n",
       "    <tr>\n",
       "      <th>11380</th>\n",
       "      <td>3.0</td>\n",
       "      <td>4.0</td>\n",
       "      <td>1.0</td>\n",
       "      <td>4.0</td>\n",
       "      <td>1.0</td>\n",
       "      <td>2.0</td>\n",
       "      <td>6.0</td>\n",
       "      <td>1.0</td>\n",
       "      <td>1.0</td>\n",
       "      <td>0.0</td>\n",
       "      <td>...</td>\n",
       "      <td>1.000000</td>\n",
       "      <td>2.000000</td>\n",
       "      <td>2.000000</td>\n",
       "      <td>3.0</td>\n",
       "      <td>1.5</td>\n",
       "      <td>3.5</td>\n",
       "      <td>3.0</td>\n",
       "      <td>3.0</td>\n",
       "      <td>1</td>\n",
       "      <td>0.6729</td>\n",
       "    </tr>\n",
       "    <tr>\n",
       "      <th>11381</th>\n",
       "      <td>4.0</td>\n",
       "      <td>2.0</td>\n",
       "      <td>1.0</td>\n",
       "      <td>3.0</td>\n",
       "      <td>0.0</td>\n",
       "      <td>2.0</td>\n",
       "      <td>6.0</td>\n",
       "      <td>1.0</td>\n",
       "      <td>2.0</td>\n",
       "      <td>0.0</td>\n",
       "      <td>...</td>\n",
       "      <td>1.000000</td>\n",
       "      <td>2.000000</td>\n",
       "      <td>2.000000</td>\n",
       "      <td>3.0</td>\n",
       "      <td>3.5</td>\n",
       "      <td>3.5</td>\n",
       "      <td>3.5</td>\n",
       "      <td>2.5</td>\n",
       "      <td>1</td>\n",
       "      <td>0.6062</td>\n",
       "    </tr>\n",
       "    <tr>\n",
       "      <th>11382</th>\n",
       "      <td>2.0</td>\n",
       "      <td>4.0</td>\n",
       "      <td>2.0</td>\n",
       "      <td>2.0</td>\n",
       "      <td>0.0</td>\n",
       "      <td>1.0</td>\n",
       "      <td>1.0</td>\n",
       "      <td>5.0</td>\n",
       "      <td>3.0</td>\n",
       "      <td>0.0</td>\n",
       "      <td>...</td>\n",
       "      <td>0.500000</td>\n",
       "      <td>0.500000</td>\n",
       "      <td>1.000000</td>\n",
       "      <td>1.5</td>\n",
       "      <td>1.0</td>\n",
       "      <td>3.5</td>\n",
       "      <td>2.5</td>\n",
       "      <td>3.0</td>\n",
       "      <td>1</td>\n",
       "      <td>0.5078</td>\n",
       "    </tr>\n",
       "  </tbody>\n",
       "</table>\n",
       "<p>11383 rows × 216 columns</p>\n",
       "</div>"
      ],
      "text/plain": [
       "       age_group  education  engnat  familysize  gender  married  race  \\\n",
       "0            1.0        2.0     2.0         3.0     1.0      1.0   6.0   \n",
       "1            1.0        2.0     2.0         2.0     1.0      1.0   5.0   \n",
       "2            3.0        3.0     2.0         7.0     1.0      2.0   5.0   \n",
       "3            6.0        4.0     1.0         4.0     1.0      2.0   6.0   \n",
       "4            1.0        2.0     1.0         3.0     1.0      1.0   6.0   \n",
       "...          ...        ...     ...         ...     ...      ...   ...   \n",
       "11378        2.0        3.0     2.0         3.0     0.0      1.0   5.0   \n",
       "11379        1.0        2.0     2.0         1.0     0.0      1.0   1.0   \n",
       "11380        3.0        4.0     1.0         4.0     1.0      2.0   6.0   \n",
       "11381        4.0        2.0     1.0         3.0     0.0      2.0   6.0   \n",
       "11382        2.0        4.0     2.0         2.0     0.0      1.0   1.0   \n",
       "\n",
       "       religion  urban  wf_01  ...  QrA_dv_QsA  QrA_dv_QtA  QsA_dv_QtA   Ex  \\\n",
       "0           6.0    2.0    0.0  ...    2.000000    1.000000    0.500000  2.0   \n",
       "1           3.0    3.0    0.0  ...    0.333333    0.250000    0.750000  7.0   \n",
       "2           5.0    1.0    0.0  ...    0.666667    0.400000    0.600000  3.5   \n",
       "3           3.0    2.0    0.0  ...    1.250000    5.000000    4.000000  3.0   \n",
       "4           0.0    2.0    0.0  ...    0.500000    0.666667    1.333333  3.0   \n",
       "...         ...    ...    ...  ...         ...         ...         ...  ...   \n",
       "11378       3.0    0.0    0.0  ...    2.000000    1.000000    0.500000  2.5   \n",
       "11379       0.0    2.0    0.0  ...    1.000000    1.250000    1.250000  4.0   \n",
       "11380       1.0    1.0    0.0  ...    1.000000    2.000000    2.000000  3.0   \n",
       "11381       1.0    2.0    0.0  ...    1.000000    2.000000    2.000000  3.0   \n",
       "11382       5.0    3.0    0.0  ...    0.500000    0.500000    1.000000  1.5   \n",
       "\n",
       "        Ag  Con   Es   Op  Label   Score  \n",
       "0      1.5  2.0  4.0  2.5      2  0.6336  \n",
       "1      7.0  7.0  7.0  7.0      2  0.7556  \n",
       "2      2.0  2.5  2.0  3.5      1  0.5757  \n",
       "3      2.5  3.0  3.5  3.0      1  0.6864  \n",
       "4      3.0  2.0  3.0  3.0      2  0.6665  \n",
       "...    ...  ...  ...  ...    ...     ...  \n",
       "11378  0.5  0.0  3.5  2.5      1  0.5462  \n",
       "11379  0.0  1.0  3.0  2.0      2  0.7327  \n",
       "11380  1.5  3.5  3.0  3.0      1  0.6729  \n",
       "11381  3.5  3.5  3.5  2.5      1  0.6062  \n",
       "11382  1.0  3.5  2.5  3.0      1  0.5078  \n",
       "\n",
       "[11383 rows x 216 columns]"
      ]
     },
     "execution_count": 27,
     "metadata": {},
     "output_type": "execute_result"
    }
   ],
   "source": [
    "predictions"
   ]
  },
  {
   "cell_type": "code",
   "execution_count": 32,
   "metadata": {},
   "outputs": [],
   "source": [
    "index = pd.read_csv('./data/test_x.csv')['index']\n",
    "\n",
    "submission = pd.DataFrame({\n",
    "    'index': index,\n",
    "    'voted': predictions['Score']\n",
    "    })\n",
    "\n",
    "submission.to_csv('./data/model1_22.csv', index=False)"
   ]
  },
  {
   "cell_type": "markdown",
   "metadata": {
    "id": "p9tUOBQJWHk6"
   },
   "source": [
    "# **Model2: Lgbm Ensemble with different features**"
   ]
  },
  {
   "cell_type": "markdown",
   "metadata": {
    "id": "MMWG4EXoWQ01"
   },
   "source": [
    "## 1. Libraries"
   ]
  },
  {
   "cell_type": "code",
   "execution_count": null,
   "metadata": {
    "id": "aGcJEmdt-US8"
   },
   "outputs": [],
   "source": [
    "import pandas as pd\n",
    "import numpy as np\n",
    "\n",
    "from string import ascii_lowercase\n",
    "from itertools import combinations\n",
    "\n",
    "from sklearn.preprocessing import LabelEncoder\n",
    "from sklearn.metrics import roc_auc_score"
   ]
  },
  {
   "cell_type": "code",
   "execution_count": null,
   "metadata": {
    "id": "HUMM9KnVVKbt"
   },
   "outputs": [],
   "source": [
    "from lightgbm import LGBMRegressor\n",
    "from sklearn.model_selection import train_test_split\n",
    "from sklearn.preprocessing import StandardScaler\n",
    "\n",
    "from sklearn.ensemble import RandomForestRegressor\n",
    "import eli5\n",
    "from eli5.sklearn import PermutationImportance\n",
    "\n",
    "import matplotlib.pyplot as plt\n",
    "\n",
    "import warnings\n",
    "import gc\n",
    "warnings.filterwarnings(\"ignore\")"
   ]
  },
  {
   "cell_type": "markdown",
   "metadata": {
    "id": "MsqYumj0WVdR"
   },
   "source": [
    "## 2. Loading the data"
   ]
  },
  {
   "cell_type": "code",
   "execution_count": null,
   "metadata": {
    "id": "jnBUKGfbR3tZ"
   },
   "outputs": [],
   "source": [
    "train = pd.read_csv('./data/train.csv')\n",
    "test = pd.read_csv('./data/test_x.csv')"
   ]
  },
  {
   "cell_type": "markdown",
   "metadata": {
    "id": "GRFXNYQGWX7B"
   },
   "source": [
    "## 3. Feature Engineering"
   ]
  },
  {
   "cell_type": "code",
   "execution_count": null,
   "metadata": {
    "id": "yqoaJBylSTva"
   },
   "outputs": [],
   "source": [
    "x_train = train.copy()\n",
    "x_train.drop('voted', axis=1, inplace = True)\n",
    "y_train = train['voted']"
   ]
  },
  {
   "cell_type": "code",
   "execution_count": null,
   "metadata": {
    "id": "tNxRd4gmSTvb"
   },
   "outputs": [],
   "source": [
    "dataset = [x_train, test]"
   ]
  },
  {
   "cell_type": "markdown",
   "metadata": {
    "id": "E-r88IupSsok"
   },
   "source": [
    "\n",
    "\n",
    "\n",
    "\n",
    "### 마키아밸리 테스트 FE"
   ]
  },
  {
   "cell_type": "code",
   "execution_count": null,
   "metadata": {
    "id": "toUeiZRQSsok"
   },
   "outputs": [],
   "source": [
    "questions = [i for i in list(ascii_lowercase)[:20]]\n",
    "answers = [('Q'+i+'A') for i in questions]"
   ]
  },
  {
   "cell_type": "code",
   "execution_count": null,
   "metadata": {
    "id": "S9hoh-OySsok"
   },
   "outputs": [],
   "source": [
    "# for data in dataset:\n",
    "#   data['T'] = data['QcA'] - data['QfA'] + data['QoA'] - data['QrA'] + data['QsA']\n",
    "#   data['V'] = data['QbA'] - data['QeA'] + data['QhA'] + data['QjA'] + data['QmA'] - data['QqA']\n",
    "#   data['M'] = - data['QkA']"
   ]
  },
  {
   "cell_type": "code",
   "execution_count": null,
   "metadata": {
    "id": "s4QWZ111Sson"
   },
   "outputs": [],
   "source": [
    "flipping_columns = [\"QeA\", \"QfA\", \"QkA\", \"QqA\", \"QrA\"]\n",
    "for data in dataset:\n",
    "  for flip in flipping_columns: \n",
    "    data[flip] = 6 - data[flip]"
   ]
  },
  {
   "cell_type": "code",
   "execution_count": null,
   "metadata": {
    "id": "AJIL5HhOSson"
   },
   "outputs": [],
   "source": [
    "flipping_secret_columns = [\"QaA\", \"QdA\", \"QgA\", \"QiA\", \"QnA\"]\n",
    "for data in dataset:\n",
    "  for flip in flipping_secret_columns: \n",
    "    data[flip] = 6 - data[flip]"
   ]
  },
  {
   "cell_type": "code",
   "execution_count": null,
   "metadata": {
    "id": "gyKjNUcaSsoo"
   },
   "outputs": [],
   "source": [
    "for data in dataset:\n",
    "  data['Mach_score'] = data[answers].mean(axis = 1)"
   ]
  },
  {
   "cell_type": "code",
   "execution_count": null,
   "metadata": {
    "id": "tF37HKd9Ssoo"
   },
   "outputs": [],
   "source": [
    "for data in dataset:\n",
    "  data['delay'] = data[[('Q'+i+'E') for i in questions]].sum(axis=1)\n",
    "  data['delay'] = data['delay'] ** (1/10)\n",
    "  data['delay_var'] = data['delay'].var()"
   ]
  },
  {
   "cell_type": "code",
   "execution_count": null,
   "metadata": {
    "id": "fHU8Pl-gSsoo"
   },
   "outputs": [],
   "source": [
    "\n",
    "Ancoms = list(combinations(answers, 2))\n",
    "for data in dataset:\n",
    "  for a,b in Ancoms:\n",
    "    data['mach_%s_dv_%s'%(a,b)] = data[a]/data[b]"
   ]
  },
  {
   "cell_type": "code",
   "execution_count": null,
   "metadata": {
    "id": "025-qu7MknAB"
   },
   "outputs": [],
   "source": [
    "for data in dataset:\n",
    "  data['mach_var'] = data[answers].var(axis=1)"
   ]
  },
  {
   "cell_type": "markdown",
   "metadata": {
    "id": "3wVKNOWQSsoo"
   },
   "source": [
    "\n",
    "### 나머지 Features\n"
   ]
  },
  {
   "cell_type": "code",
   "execution_count": null,
   "metadata": {
    "id": "V4PbRK7RQkJw"
   },
   "outputs": [],
   "source": [
    "tps = ['tp01', 'tp02', 'tp03', 'tp04', 'tp05', 'tp06', 'tp07', 'tp08', 'tp09', 'tp10']\n",
    "for data in dataset:\n",
    "  for tp in tps:\n",
    "    data[tp] = 7 - data[tp]"
   ]
  },
  {
   "cell_type": "markdown",
   "metadata": {
    "id": "Aprgwpn8TGHv"
   },
   "source": [
    "tipi feature들을 일반적인 형태로 복구시켜줬습니다."
   ]
  },
  {
   "cell_type": "code",
   "execution_count": null,
   "metadata": {
    "id": "jIKIhZD1-we3"
   },
   "outputs": [],
   "source": [
    "for data in dataset:\n",
    "  for tp in tps:\n",
    "    data[tp] = data[tp].replace(0, np.nan)\n",
    "    mean = data[tp].mean(axis=0)\n",
    "    data[tp] = data[tp].replace(np.nan , mean)\n"
   ]
  },
  {
   "cell_type": "markdown",
   "metadata": {
    "id": "fdbRb88vTdIC"
   },
   "source": [
    "tp중 무응답 값들을 평균값으로 대체했습니다."
   ]
  },
  {
   "cell_type": "code",
   "execution_count": null,
   "metadata": {
    "id": "qPpDMaa_Ssop"
   },
   "outputs": [],
   "source": [
    "for data in dataset:\n",
    "  data['Ex'] = (data['tp01']+data['tp06'])/2\n",
    "  data['Ag'] = (data['tp07']+data['tp02'])/2\n",
    "  data['Con'] = (data['tp03']+data['tp08'])/2\n",
    "  data['Es'] =(data['tp09']+data['tp04'])/2\n",
    "  data['Op'] =(data['tp05']+data['tp10'])/2"
   ]
  },
  {
   "cell_type": "code",
   "execution_count": null,
   "metadata": {
    "id": "QepxAcpvSsop"
   },
   "outputs": [],
   "source": [
    "index = test['index']\n",
    "for data in dataset:\n",
    "  data.drop('index', axis = 1, inplace = True)"
   ]
  },
  {
   "cell_type": "code",
   "execution_count": null,
   "metadata": {
    "id": "cC9q3OT2Esm1"
   },
   "outputs": [],
   "source": [
    "import numpy as np\n",
    "for data in dataset:\n",
    "  teenager_ox = 1*np.array(data['age_group'] == '10s')\n",
    "  data['teenager_ox'] = teenager_ox"
   ]
  },
  {
   "cell_type": "markdown",
   "metadata": {
    "id": "S5jSmARBTwFp"
   },
   "source": [
    "10대인지 아닌지의 여부가 투표 여부에 큰 영향을 미칠 것 같아 하나의 column을 더 만들어주었습니다. "
   ]
  },
  {
   "cell_type": "code",
   "execution_count": null,
   "metadata": {
    "id": "vJcIznqcSE7W"
   },
   "outputs": [],
   "source": [
    "tpcoms = list(combinations(tps, 2))\n",
    "for data in dataset:\n",
    "  for a,b in tpcoms:\n",
    "    data['tp_%s_dv_%s'%(a,b)] = data[a]/data[b]"
   ]
  },
  {
   "cell_type": "markdown",
   "metadata": {
    "id": "7z2_dTV4UNBu"
   },
   "source": [
    "tp 값들끼리 나눈 feature들을 생성해주었습니다."
   ]
  },
  {
   "cell_type": "code",
   "execution_count": null,
   "metadata": {
    "id": "hrTv5xF2Ssoq"
   },
   "outputs": [],
   "source": [
    "from sklearn.preprocessing import LabelEncoder\n",
    "encoder = LabelEncoder()\n",
    "needenco = ['age_group', 'gender', 'race', 'religion']\n",
    "for i in needenco:\n",
    "  x_train[i] = encoder.fit_transform(x_train[i])\n",
    "  test[i] = encoder.transform(test[i])"
   ]
  },
  {
   "cell_type": "code",
   "execution_count": null,
   "metadata": {
    "id": "dLFRPBssoD5R"
   },
   "outputs": [],
   "source": [
    "for data in dataset:\n",
    "  data['Es_gender'] = data['Es']*data['gender']\n",
    "  data['Con_gender'] = data['Con']*data['gender']\n",
    "  data['Op_gender'] = data['Op']*data['gender']"
   ]
  },
  {
   "cell_type": "markdown",
   "metadata": {
    "id": "cLAE9KvnUlw7"
   },
   "source": [
    "EDA 결과, 성별에 따라 Emotional Stability/ Conscience/ Open Minded가 투표 여부에 미치는 영향이 크다고 판단되어 feature를 추가해주었습니다.\n",
    "\n",
    "정보 출처: https://www.sciencedirect.com/science/article/abs/pii/S0261379413001613"
   ]
  },
  {
   "cell_type": "markdown",
   "metadata": {
    "id": "Zyj0rhtxWcUP"
   },
   "source": [
    "## 4. Feature Selection 1 & Model 2-1"
   ]
  },
  {
   "cell_type": "code",
   "execution_count": null,
   "metadata": {
    "id": "oQ1ePSk6Tm7L"
   },
   "outputs": [],
   "source": [
    "def lgbm_rfe_4040(x_data, y_data, ratio=0.9, min_feats=40):\n",
    "    feats = x_data.columns.tolist()\n",
    "    archive = pd.DataFrame(columns=['model', 'n_feats', 'feats', 'score'])\n",
    "    while True:\n",
    "        model = LGBMClassifier(objective = 'binary', num_iterations=10**4)\n",
    "        x_train, x_val, y_train, y_val = train_test_split(x_data[feats], y_data, random_state=4040)\n",
    "        model.fit(x_train, y_train, eval_set=[(x_val, y_val)], early_stopping_rounds=100, verbose=False)\n",
    "        val_pred = model.predict_proba(x_val)\n",
    "        val_pred = val_pred[:,1]\n",
    "        score = roc_auc_score(y_val, val_pred)\n",
    "        n_feats = len(feats)\n",
    "        print(n_feats, score)\n",
    "        archive = archive.append({'model': model, 'n_feats': n_feats, 'feats': feats, 'score': score}, ignore_index=True)\n",
    "        feat_imp = pd.Series(model.feature_importances_, index=feats).sort_values(ascending=False)        \n",
    "        next_n_feats = int(n_feats * ratio)\n",
    "        if next_n_feats < min_feats:\n",
    "            break\n",
    "        else:\n",
    "            feats = feat_imp.iloc[:next_n_feats].index.tolist()\n",
    "    return archive\n"
   ]
  },
  {
   "cell_type": "code",
   "execution_count": null,
   "metadata": {
    "colab": {
     "base_uri": "https://localhost:8080/"
    },
    "id": "-2NXC4jCTmkC",
    "outputId": "cd6895b4-a711-479b-8ce6-ccfa042d85fb"
   },
   "outputs": [],
   "source": [
    "lgbm_archive_4040 = lgbm_rfe_4040(x_train, y_train)"
   ]
  },
  {
   "cell_type": "code",
   "execution_count": null,
   "metadata": {
    "id": "Q1u5lw1oWFAU"
   },
   "outputs": [],
   "source": [
    "model = LGBMClassifier(objective=\"binary\", num_iterations= 10**3)\n",
    "\n",
    "x_train_1 = x_train[lgbm_archive_4040.iloc[7,2]]\n",
    "\n",
    "model.fit(x_train_1, y_train)\n",
    "\n",
    "pred_y1 = model.predict_proba(test[lgbm_archive_4040.iloc[7,2]])\n",
    "pred_y1 = pred_y1[:,1]"
   ]
  },
  {
   "cell_type": "markdown",
   "metadata": {
    "id": "dA8_WcTEWpXG"
   },
   "source": [
    "## 5. Feature Selection 2 & Model 2-2"
   ]
  },
  {
   "cell_type": "code",
   "execution_count": null,
   "metadata": {
    "id": "mh6_HFlVlt8b"
   },
   "outputs": [],
   "source": [
    "def lgbm_rfe_1234(x_data, y_data, ratio=0.9, min_feats=40):\n",
    "    feats = x_data.columns.tolist()\n",
    "    archive = pd.DataFrame(columns=['model', 'n_feats', 'feats', 'score'])\n",
    "    while True:\n",
    "        model = LGBMClassifier(objective = 'binary', num_iterations=10**4)\n",
    "        x_train, x_val, y_train, y_val = train_test_split(x_data[feats], y_data, random_state=1234)\n",
    "        model.fit(x_train, y_train, eval_set=[(x_val, y_val)], early_stopping_rounds=100, verbose=False)\n",
    "        val_pred = model.predict_proba(x_val)\n",
    "        val_pred = val_pred[:,1]\n",
    "        score = roc_auc_score(y_val, val_pred)\n",
    "        n_feats = len(feats)\n",
    "        print(n_feats, score)\n",
    "        archive = archive.append({'model': model, 'n_feats': n_feats, 'feats': feats, 'score': score}, ignore_index=True)\n",
    "        feat_imp = pd.Series(model.feature_importances_, index=feats).sort_values(ascending=False)\n",
    "        next_n_feats = int(n_feats * ratio)\n",
    "        if next_n_feats < min_feats:\n",
    "            break\n",
    "        else:\n",
    "            feats = feat_imp.iloc[:next_n_feats].index.tolist()\n",
    "    return archive\n"
   ]
  },
  {
   "cell_type": "code",
   "execution_count": null,
   "metadata": {
    "colab": {
     "base_uri": "https://localhost:8080/"
    },
    "id": "HD9-POOnluD8",
    "outputId": "df9fa499-3946-4660-e407-2435f2371b76"
   },
   "outputs": [],
   "source": [
    "lgbm_archive_1234 = lgbm_rfe_1234(x_train, y_train)"
   ]
  },
  {
   "cell_type": "code",
   "execution_count": null,
   "metadata": {
    "id": "V7IugbRA89El"
   },
   "outputs": [],
   "source": [
    "model2 = LGBMClassifier(objective=\"binary\", num_iterations= 10**3)\n",
    "\n",
    "x_train_2 = x_train[lgbm_archive_1234.iloc[14,2]]\n",
    "\n",
    "model2.fit(x_train_2, y_train)\n",
    "\n",
    "pred_y2 = model2.predict_proba(test[lgbm_archive_1234.iloc[14,2]])\n",
    "pred_y2 = pred_y2[:,1]"
   ]
  },
  {
   "cell_type": "markdown",
   "metadata": {
    "id": "Z9Z-ex7iWtvZ"
   },
   "source": [
    "## 6. Feature Selection 3 & Model 2-3"
   ]
  },
  {
   "cell_type": "code",
   "execution_count": null,
   "metadata": {
    "id": "ZMeNqo3j7JUz"
   },
   "outputs": [],
   "source": [
    "def lgbm_rfe_99087(x_data, y_data, ratio=0.9, min_feats=40):\n",
    "    feats = x_data.columns.tolist()\n",
    "    archive = pd.DataFrame(columns=['model', 'n_feats', 'feats', 'score'])\n",
    "    while True:\n",
    "        model = LGBMClassifier(objective = 'binary', num_iterations=10**4)\n",
    "        x_train, x_val, y_train, y_val = train_test_split(x_data[feats], y_data, random_state=99087)\n",
    "        model.fit(x_train, y_train, eval_set=[(x_val, y_val)], early_stopping_rounds=100, verbose=False)\n",
    "        val_pred = model.predict_proba(x_val)\n",
    "        val_pred = val_pred[:,1]\n",
    "        score = roc_auc_score(y_val, val_pred)\n",
    "        n_feats = len(feats)\n",
    "        print(n_feats, score)\n",
    "        archive = archive.append({'model': model, 'n_feats': n_feats, 'feats': feats, 'score': score}, ignore_index=True)\n",
    "        feat_imp = pd.Series(model.feature_importances_, index=feats).sort_values(ascending=False)\n",
    "        next_n_feats = int(n_feats * ratio)\n",
    "        if next_n_feats < min_feats:\n",
    "            break\n",
    "        else:\n",
    "            feats = feat_imp.iloc[:next_n_feats].index.tolist()\n",
    "    return archive\n"
   ]
  },
  {
   "cell_type": "code",
   "execution_count": null,
   "metadata": {
    "colab": {
     "base_uri": "https://localhost:8080/"
    },
    "id": "Co3QK0lz7M0P",
    "outputId": "fcff062f-2608-4143-d81c-1fb040bf17e2"
   },
   "outputs": [],
   "source": [
    "lgbm_archive_99087 = lgbm_rfe_99087(x_train, y_train)"
   ]
  },
  {
   "cell_type": "code",
   "execution_count": null,
   "metadata": {
    "id": "xO_Tb3HF-_G7"
   },
   "outputs": [],
   "source": [
    "model3 = LGBMClassifier(objective=\"binary\", num_iterations= 10**3)\n",
    "\n",
    "x_train_3 = x_train[lgbm_archive_99087.iloc[7,2]]\n",
    "\n",
    "model3.fit(x_train_3, y_train)\n",
    "\n",
    "pred_y3 = model3.predict_proba(test[lgbm_archive_99087.iloc[7,2]])\n",
    "pred_y3 = pred_y3[:,1]"
   ]
  },
  {
   "cell_type": "markdown",
   "metadata": {
    "id": "jwVZnH5uW1eI"
   },
   "source": [
    "## 7. Feature Selection 4 & Model 2-4 "
   ]
  },
  {
   "cell_type": "code",
   "execution_count": null,
   "metadata": {
    "id": "YBaoL1Lc715N"
   },
   "outputs": [],
   "source": [
    "def lgbm_rfe_42(x_data, y_data, ratio=0.9, min_feats=40):\n",
    "    feats = x_data.columns.tolist()\n",
    "    archive = pd.DataFrame(columns=['model', 'n_feats', 'feats', 'score'])\n",
    "    while True:\n",
    "        model = LGBMClassifier(objective = 'binary', num_iterations=10**4)\n",
    "        x_train, x_val, y_train, y_val = train_test_split(x_data[feats], y_data, random_state=42)\n",
    "        model.fit(x_train, y_train, eval_set=[(x_val, y_val)], early_stopping_rounds=100, verbose=False)\n",
    "        val_pred = model.predict_proba(x_val)\n",
    "        val_pred = val_pred[:,1]\n",
    "        score = roc_auc_score(y_val, val_pred)\n",
    "        n_feats = len(feats)\n",
    "        print(n_feats, score)\n",
    "        archive = archive.append({'model': model, 'n_feats': n_feats, 'feats': feats, 'score': score}, ignore_index=True)\n",
    "        feat_imp = pd.Series(model.feature_importances_, index=feats).sort_values(ascending=False)\n",
    "        next_n_feats = int(n_feats * ratio)\n",
    "        if next_n_feats < min_feats:\n",
    "            break\n",
    "        else:\n",
    "            feats = feat_imp.iloc[:next_n_feats].index.tolist()\n",
    "    return archive\n"
   ]
  },
  {
   "cell_type": "code",
   "execution_count": null,
   "metadata": {
    "colab": {
     "base_uri": "https://localhost:8080/"
    },
    "id": "DQrS-hk178RH",
    "outputId": "3fdd292e-c884-4eeb-9615-bf952109d8e4"
   },
   "outputs": [],
   "source": [
    "lgbm_archive_42 = lgbm_rfe_42(x_train, y_train)"
   ]
  },
  {
   "cell_type": "code",
   "execution_count": null,
   "metadata": {
    "id": "uWt4SiRS_rG5"
   },
   "outputs": [],
   "source": [
    "model4 = LGBMClassifier(objective=\"binary\", num_iterations= 10**3)\n",
    "\n",
    "x_train_4 = x_train[lgbm_archive_42.iloc[8,2]]\n",
    "\n",
    "model4.fit(x_train_4, y_train)\n",
    "\n",
    "pred_y4 = model4.predict_proba(test[lgbm_archive_42.iloc[8,2]])\n",
    "pred_y4 = pred_y4[:,1]"
   ]
  },
  {
   "cell_type": "markdown",
   "metadata": {
    "id": "b8ylwrNCW_zC"
   },
   "source": [
    "## 8. Ensemble"
   ]
  },
  {
   "cell_type": "code",
   "execution_count": null,
   "metadata": {
    "id": "-maaRlGNAHKD"
   },
   "outputs": [],
   "source": [
    "pred_all = (pred_y + pred_y2 + pred_y3 + pred_y4) * (1/4)\n",
    "\n",
    "submission = pd.DataFrame({\n",
    "    \"index\" : index,\n",
    "    \"voted\" : pred_all\n",
    "})\n",
    "submission.to_csv('./data/model2.csv', index=False)\n"
   ]
  },
  {
   "cell_type": "markdown",
   "metadata": {
    "id": "r4NGkpYIXCa1"
   },
   "source": [
    "# **Model3: NN**"
   ]
  },
  {
   "cell_type": "markdown",
   "metadata": {
    "id": "Tgr_-0VScJTV"
   },
   "source": [
    "3번째 모델은 Junho Sun 님께서 공유해주신 코드를 그대로 활용하였습니다.\n",
    "\n",
    "좋은 모델을 공유해주신 덕분에 public score도 0.78대로 올라갈 수 있었습니다. \n",
    "정말 감사합니다!"
   ]
  },
  {
   "cell_type": "code",
   "execution_count": null,
   "metadata": {
    "id": "H6VAUhUCHAqL"
   },
   "outputs": [],
   "source": [
    "import random\n",
    "from datetime import datetime\n",
    "\n",
    "import numpy as np\n",
    "import pandas as pd\n",
    "import torch\n",
    "from sklearn.model_selection import StratifiedKFold\n",
    "from torch import nn, optim\n",
    "from torch.utils.data import DataLoader\n",
    "from torch.utils.data import TensorDataset\n",
    "from tqdm import tqdm\n",
    "\n",
    "random.seed(0)\n",
    "np.random.seed(0)\n",
    "torch.manual_seed(0)\n",
    "torch.backends.cudnn.deterministic = True\n",
    "torch.backends.cudnn.benchmark = False\n",
    "\n",
    "DEVICE = 'cuda:0' if torch.cuda.is_available() else 'cpu'\n",
    "\n",
    "drop_list = ['QaE', 'QbE', 'QcE', 'QdE', 'QeE',\n",
    "             'QfE', 'QgE', 'QhE', 'QiE', 'QjE',\n",
    "             'QkE', 'QlE', 'QmE', 'QnE', 'QoE',\n",
    "             'QpE', 'QqE', 'QrE', 'QsE', 'QtE',\n",
    "             'index', 'hand']\n",
    "replace_dict = {'education': str, 'engnat': str, 'married': str, 'urban': str}\n",
    "train_data = pd.read_csv('./data/train.csv')\n",
    "test_data = pd.read_csv('./data/test_x.csv')\n",
    "train_data = train_data.drop(train_data[train_data.familysize > 50].index)\n",
    "train_y = train_data['voted']\n",
    "train_x = train_data.drop(drop_list + ['voted'], axis=1)\n",
    "test_x = test_data.drop(drop_list, axis=1)\n",
    "train_x = train_x.astype(replace_dict)\n",
    "test_x = test_x.astype(replace_dict)\n",
    "train_x = pd.get_dummies(train_x)\n",
    "test_x = pd.get_dummies(test_x)\n",
    "train_y = 2 - train_y.to_numpy()\n",
    "train_x = train_x.to_numpy()\n",
    "test_x = test_x.to_numpy()\n",
    "\n",
    "train_y_t = torch.tensor(train_y, dtype=torch.float32)\n",
    "train_x_t = torch.tensor(train_x, dtype=torch.float32)\n",
    "test_x_t = torch.tensor(test_x, dtype=torch.float32)\n",
    "train_x_t[:, :20] = (train_x_t[:, :20] - 3.) / 2.\n",
    "test_x_t[:, :20] = (test_x_t[:, :20] - 3.) / 2\n",
    "train_x_t[:, 20] = (train_x_t[:, 20] - 5.) / 4.\n",
    "test_x_t[:, 20] = (test_x_t[:, 20] - 5.) / 4.\n",
    "train_x_t[:, 21:31] = (train_x_t[:, 21:31] - 3.5) / 3.5\n",
    "test_x_t[:, 21:31] = (test_x_t[:, 21:31] - 3.5) / 3.5\n",
    "test_len = len(test_x_t)\n",
    "\n",
    "N_REPEAT = 5\n",
    "N_SKFOLD = 7\n",
    "N_EPOCH = 48\n",
    "BATCH_SIZE = 72000\n",
    "LOADER_PARAM = {\n",
    "    'batch_size': BATCH_SIZE,\n",
    "    'num_workers': 4,\n",
    "    'pin_memory': True\n",
    "}\n",
    "prediction = np.zeros((test_len, 1), dtype=np.float32)\n",
    "\n",
    "for repeat in range(N_REPEAT):\n",
    "\n",
    "    skf, tot = StratifiedKFold(n_splits=N_SKFOLD, random_state=repeat, shuffle=True), 0.\n",
    "    for skfold, (train_idx, valid_idx) in enumerate(skf.split(train_x, train_y)):\n",
    "        train_idx, valid_idx = list(train_idx), list(valid_idx)\n",
    "        train_loader = DataLoader(TensorDataset(train_x_t[train_idx, :], train_y_t[train_idx]),\n",
    "                                  shuffle=True, drop_last=True, **LOADER_PARAM)\n",
    "        valid_loader = DataLoader(TensorDataset(train_x_t[valid_idx, :], train_y_t[valid_idx]),\n",
    "                                  shuffle=False, drop_last=False, **LOADER_PARAM)\n",
    "        test_loader = DataLoader(TensorDataset(test_x_t, torch.zeros((test_len,), dtype=torch.float32)),\n",
    "                                 shuffle=False, drop_last=False, **LOADER_PARAM)\n",
    "        model = nn.Sequential(\n",
    "            nn.Dropout(0.05),\n",
    "            nn.Linear(91, 180, bias=False),\n",
    "            nn.LeakyReLU(0.05, inplace=True),\n",
    "            nn.Dropout(0.5),\n",
    "            nn.Linear(180, 32, bias=False),\n",
    "            nn.ReLU(inplace=True),\n",
    "            nn.Linear(32, 1)\n",
    "        ).to(DEVICE)\n",
    "        criterion = torch.nn.BCEWithLogitsLoss(pos_weight=torch.tensor([1.20665], device=DEVICE))\n",
    "        optimizer = optim.AdamW(model.parameters(), lr=5e-3, weight_decay=7.8e-2)\n",
    "        scheduler = optim.lr_scheduler.CosineAnnealingWarmRestarts(\n",
    "            optimizer, T_0=N_EPOCH // 6, eta_min=4e-4)\n",
    "        prediction_t, loss_t = np.zeros((test_len, 1), dtype=np.float32), 1.\n",
    "\n",
    "        # for epoch in range(N_EPOCH):\n",
    "        for epoch in tqdm(range(N_EPOCH), desc='{:02d}/{:02d}'.format(skfold + 1, N_SKFOLD)):\n",
    "            model.train()\n",
    "            for idx, (xx, yy) in enumerate(train_loader):\n",
    "                optimizer.zero_grad()\n",
    "                xx, yy = xx.to(DEVICE), yy.to(DEVICE)\n",
    "                pred = model(xx).squeeze()\n",
    "                loss = criterion(pred, yy)\n",
    "                loss.backward()\n",
    "                optimizer.step()\n",
    "                scheduler.step(epoch + idx / len(train_loader))\n",
    "\n",
    "            with torch.no_grad():\n",
    "                model.eval()\n",
    "                running_acc, running_loss, running_count = 0, 0., 0\n",
    "                for xx, yy in valid_loader:\n",
    "                    xx, yy = xx.to(DEVICE), yy.to(DEVICE)\n",
    "                    pred = model(xx).squeeze()\n",
    "                    loss = criterion(pred, yy)\n",
    "                    running_loss += loss.item() * len(yy)\n",
    "                    running_count += len(yy)\n",
    "                    running_acc += ((torch.sigmoid(pred) > 0.5).float() == yy).sum().item()\n",
    "                # print('R{:02d} S{:02d} E{:02d} | {:6.4f}, {:5.2f}%'\n",
    "                #       .format(repeat + 1, skfold + 1, epoch + 1, running_loss / running_count,\n",
    "                #               running_acc / running_count * 100))\n",
    "\n",
    "                if running_loss / running_count < loss_t:\n",
    "                    loss_t = running_loss / running_count\n",
    "                    for idx, (xx, _) in enumerate(test_loader):\n",
    "                        xx = xx.to(DEVICE)\n",
    "                        pred = (2. - torch.sigmoid(model(xx).detach().to('cpu'))).numpy()\n",
    "                        prediction_t[BATCH_SIZE * idx:min(BATCH_SIZE * (idx + 1), len(prediction)), :] \\\n",
    "                            = pred[:, :].copy()\n",
    "        prediction[:, :] += prediction_t[:, :].copy() / (N_REPEAT * N_SKFOLD)\n",
    "        tot += loss_t\n",
    "    print('R{} -> {:6.4f}'.format(repeat + 1, tot / N_SKFOLD))\n",
    "\n",
    "df = pd.read_csv('./data/sample_submission.csv')\n",
    "df.iloc[:, 1:] = prediction"
   ]
  },
  {
   "cell_type": "code",
   "execution_count": null,
   "metadata": {},
   "outputs": [],
   "source": [
    "torch.save(model, './data/model.pt')"
   ]
  },
  {
   "cell_type": "code",
   "execution_count": null,
   "metadata": {
    "id": "cUVGO9crcusy"
   },
   "outputs": [],
   "source": [
    "df.to_csv('./data/model3.csv', index=False)"
   ]
  },
  {
   "cell_type": "markdown",
   "metadata": {
    "id": "N0-G6L1VXHHs"
   },
   "source": [
    "# Final Ensemble"
   ]
  },
  {
   "cell_type": "code",
   "execution_count": 33,
   "metadata": {
    "id": "p_YJ89h-YtkQ"
   },
   "outputs": [],
   "source": [
    "model1 = pd.read_csv('./data/model1_22.csv', index_col = 'index')\n",
    "model2 = pd.read_csv('./data/model2.csv', index_col='index')\n",
    "\n",
    "pred_y = (model1)*(0.7) + (model2)*(0.3)\n",
    "\n",
    "test = pd.read_csv('./data/test_x.csv')\n",
    "index = test['index']\n",
    "\n",
    "submission = pd.DataFrame({\n",
    "    'index': index,\n",
    "    'voted': pred_y['voted']\n",
    "    })\n",
    "\n",
    "submission.to_csv('./data/combined_model1_model2.csv', index=False)"
   ]
  },
  {
   "cell_type": "code",
   "execution_count": 34,
   "metadata": {
    "id": "0QMkn7bLZWpH"
   },
   "outputs": [],
   "source": [
    "\n",
    "combined_12 = pd.read_csv('./data/combined_model1_model2.csv', index_col = 'index')\n",
    "model3 = pd.read_csv('./data/model3.csv', index_col='index')\n",
    "model3['voted'] = model3['voted']-1"
   ]
  },
  {
   "cell_type": "markdown",
   "metadata": {
    "id": "AYrm4QPmcvRt"
   },
   "source": [
    "다른 모델과 같이 [0,1]의 범위(voted가 2일 확률)를 맞춰주기 위해 1을 빼주었습니다."
   ]
  },
  {
   "cell_type": "code",
   "execution_count": 35,
   "metadata": {
    "id": "VUWWzkNZZgXs"
   },
   "outputs": [],
   "source": [
    "pred_y = (model3)*(0.8) + (combined_12)*(0.2)\n",
    "\n",
    "test = pd.read_csv('./data/test_x.csv')\n",
    "index = test['index']\n",
    "\n",
    "submission = pd.DataFrame({\n",
    "    'index': index,\n",
    "    'voted': pred_y['voted']\n",
    "    })\n",
    "\n",
    "submission.to_csv('./data/submission_final_automl.csv', index=False)"
   ]
  },
  {
   "cell_type": "code",
   "execution_count": 37,
   "metadata": {},
   "outputs": [
    {
     "data": {
      "text/html": [
       "<div>\n",
       "<style scoped>\n",
       "    .dataframe tbody tr th:only-of-type {\n",
       "        vertical-align: middle;\n",
       "    }\n",
       "\n",
       "    .dataframe tbody tr th {\n",
       "        vertical-align: top;\n",
       "    }\n",
       "\n",
       "    .dataframe thead th {\n",
       "        text-align: right;\n",
       "    }\n",
       "</style>\n",
       "<table border=\"1\" class=\"dataframe\">\n",
       "  <thead>\n",
       "    <tr style=\"text-align: right;\">\n",
       "      <th></th>\n",
       "      <th>index</th>\n",
       "      <th>voted</th>\n",
       "    </tr>\n",
       "  </thead>\n",
       "  <tbody>\n",
       "    <tr>\n",
       "      <th>0</th>\n",
       "      <td>0</td>\n",
       "      <td>0.531823</td>\n",
       "    </tr>\n",
       "    <tr>\n",
       "      <th>1</th>\n",
       "      <td>1</td>\n",
       "      <td>0.549404</td>\n",
       "    </tr>\n",
       "    <tr>\n",
       "      <th>2</th>\n",
       "      <td>2</td>\n",
       "      <td>0.497554</td>\n",
       "    </tr>\n",
       "    <tr>\n",
       "      <th>3</th>\n",
       "      <td>3</td>\n",
       "      <td>0.459782</td>\n",
       "    </tr>\n",
       "    <tr>\n",
       "      <th>4</th>\n",
       "      <td>4</td>\n",
       "      <td>0.536788</td>\n",
       "    </tr>\n",
       "    <tr>\n",
       "      <th>...</th>\n",
       "      <td>...</td>\n",
       "      <td>...</td>\n",
       "    </tr>\n",
       "    <tr>\n",
       "      <th>11378</th>\n",
       "      <td>11378</td>\n",
       "      <td>0.493869</td>\n",
       "    </tr>\n",
       "    <tr>\n",
       "      <th>11379</th>\n",
       "      <td>11379</td>\n",
       "      <td>0.556635</td>\n",
       "    </tr>\n",
       "    <tr>\n",
       "      <th>11380</th>\n",
       "      <td>11380</td>\n",
       "      <td>0.460075</td>\n",
       "    </tr>\n",
       "    <tr>\n",
       "      <th>11381</th>\n",
       "      <td>11381</td>\n",
       "      <td>0.476615</td>\n",
       "    </tr>\n",
       "    <tr>\n",
       "      <th>11382</th>\n",
       "      <td>11382</td>\n",
       "      <td>0.505483</td>\n",
       "    </tr>\n",
       "  </tbody>\n",
       "</table>\n",
       "<p>11383 rows × 2 columns</p>\n",
       "</div>"
      ],
      "text/plain": [
       "       index     voted\n",
       "0          0  0.531823\n",
       "1          1  0.549404\n",
       "2          2  0.497554\n",
       "3          3  0.459782\n",
       "4          4  0.536788\n",
       "...      ...       ...\n",
       "11378  11378  0.493869\n",
       "11379  11379  0.556635\n",
       "11380  11380  0.460075\n",
       "11381  11381  0.476615\n",
       "11382  11382  0.505483\n",
       "\n",
       "[11383 rows x 2 columns]"
      ]
     },
     "execution_count": 37,
     "metadata": {},
     "output_type": "execute_result"
    }
   ],
   "source": [
    "pd.read_csv('./data/submission_final.csv')"
   ]
  },
  {
   "cell_type": "code",
   "execution_count": 36,
   "metadata": {},
   "outputs": [
    {
     "data": {
      "text/html": [
       "<div>\n",
       "<style scoped>\n",
       "    .dataframe tbody tr th:only-of-type {\n",
       "        vertical-align: middle;\n",
       "    }\n",
       "\n",
       "    .dataframe tbody tr th {\n",
       "        vertical-align: top;\n",
       "    }\n",
       "\n",
       "    .dataframe thead th {\n",
       "        text-align: right;\n",
       "    }\n",
       "</style>\n",
       "<table border=\"1\" class=\"dataframe\">\n",
       "  <thead>\n",
       "    <tr style=\"text-align: right;\">\n",
       "      <th></th>\n",
       "      <th>index</th>\n",
       "      <th>voted</th>\n",
       "    </tr>\n",
       "  </thead>\n",
       "  <tbody>\n",
       "    <tr>\n",
       "      <th>0</th>\n",
       "      <td>0</td>\n",
       "      <td>0.534243</td>\n",
       "    </tr>\n",
       "    <tr>\n",
       "      <th>1</th>\n",
       "      <td>1</td>\n",
       "      <td>0.559904</td>\n",
       "    </tr>\n",
       "    <tr>\n",
       "      <th>2</th>\n",
       "      <td>2</td>\n",
       "      <td>0.508408</td>\n",
       "    </tr>\n",
       "    <tr>\n",
       "      <th>3</th>\n",
       "      <td>3</td>\n",
       "      <td>0.505558</td>\n",
       "    </tr>\n",
       "    <tr>\n",
       "      <th>4</th>\n",
       "      <td>4</td>\n",
       "      <td>0.543140</td>\n",
       "    </tr>\n",
       "    <tr>\n",
       "      <th>...</th>\n",
       "      <td>...</td>\n",
       "      <td>...</td>\n",
       "    </tr>\n",
       "    <tr>\n",
       "      <th>11378</th>\n",
       "      <td>11378</td>\n",
       "      <td>0.502594</td>\n",
       "    </tr>\n",
       "    <tr>\n",
       "      <th>11379</th>\n",
       "      <td>11379</td>\n",
       "      <td>0.560327</td>\n",
       "    </tr>\n",
       "    <tr>\n",
       "      <th>11380</th>\n",
       "      <td>11380</td>\n",
       "      <td>0.506495</td>\n",
       "    </tr>\n",
       "    <tr>\n",
       "      <th>11381</th>\n",
       "      <td>11381</td>\n",
       "      <td>0.504787</td>\n",
       "    </tr>\n",
       "    <tr>\n",
       "      <th>11382</th>\n",
       "      <td>11382</td>\n",
       "      <td>0.501323</td>\n",
       "    </tr>\n",
       "  </tbody>\n",
       "</table>\n",
       "<p>11383 rows × 2 columns</p>\n",
       "</div>"
      ],
      "text/plain": [
       "       index     voted\n",
       "0          0  0.534243\n",
       "1          1  0.559904\n",
       "2          2  0.508408\n",
       "3          3  0.505558\n",
       "4          4  0.543140\n",
       "...      ...       ...\n",
       "11378  11378  0.502594\n",
       "11379  11379  0.560327\n",
       "11380  11380  0.506495\n",
       "11381  11381  0.504787\n",
       "11382  11382  0.501323\n",
       "\n",
       "[11383 rows x 2 columns]"
      ]
     },
     "execution_count": 36,
     "metadata": {},
     "output_type": "execute_result"
    }
   ],
   "source": [
    "submission"
   ]
  }
 ],
 "metadata": {
  "kernelspec": {
   "display_name": "Python 3",
   "language": "python",
   "name": "python3"
  },
  "language_info": {
   "codemirror_mode": {
    "name": "ipython",
    "version": 3
   },
   "file_extension": ".py",
   "mimetype": "text/x-python",
   "name": "python",
   "nbconvert_exporter": "python",
   "pygments_lexer": "ipython3",
   "version": "3.8.8"
  },
  "varInspector": {
   "cols": {
    "lenName": 16,
    "lenType": 16,
    "lenVar": 40
   },
   "kernels_config": {
    "python": {
     "delete_cmd_postfix": "",
     "delete_cmd_prefix": "del ",
     "library": "var_list.py",
     "varRefreshCmd": "print(var_dic_list())"
    },
    "r": {
     "delete_cmd_postfix": ") ",
     "delete_cmd_prefix": "rm(",
     "library": "var_list.r",
     "varRefreshCmd": "cat(var_dic_list()) "
    }
   },
   "types_to_exclude": [
    "module",
    "function",
    "builtin_function_or_method",
    "instance",
    "_Feature"
   ],
   "window_display": false
  },
  "vscode": {
   "interpreter": {
    "hash": "6d5361de2d3a86ff8022af11ead2fa25aee948dfb14ed55cb3d2da795443f4cf"
   }
  }
 },
 "nbformat": 4,
 "nbformat_minor": 2
}
